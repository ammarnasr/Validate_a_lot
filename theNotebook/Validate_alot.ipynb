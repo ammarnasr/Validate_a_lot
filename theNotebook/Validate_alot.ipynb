{
  "nbformat": 4,
  "nbformat_minor": 0,
  "metadata": {
    "colab": {
      "name": "Validate_alot.ipynb",
      "provenance": [],
      "collapsed_sections": [],
      "toc_visible": true
    },
    "kernelspec": {
      "name": "python3",
      "display_name": "Python 3"
    },
    "accelerator": "GPU"
  },
  "cells": [
    {
      "cell_type": "code",
      "metadata": {
        "id": "EnQU7wEOxIfE",
        "colab_type": "code",
        "colab": {
          "base_uri": "https://localhost:8080/",
          "height": 350
        },
        "outputId": "89a30b95-2bff-4a2a-b572-48d369bc5d6b"
      },
      "source": [
        "!nvidia-smi #Fri Jun 19 18:08:52 2020   "
      ],
      "execution_count": 1,
      "outputs": [
        {
          "output_type": "stream",
          "text": [
            "Sun Aug  9 17:57:53 2020       \n",
            "+-----------------------------------------------------------------------------+\n",
            "| NVIDIA-SMI 450.57       Driver Version: 418.67       CUDA Version: 10.1     |\n",
            "|-------------------------------+----------------------+----------------------+\n",
            "| GPU  Name        Persistence-M| Bus-Id        Disp.A | Volatile Uncorr. ECC |\n",
            "| Fan  Temp  Perf  Pwr:Usage/Cap|         Memory-Usage | GPU-Util  Compute M. |\n",
            "|                               |                      |               MIG M. |\n",
            "|===============================+======================+======================|\n",
            "|   0  Tesla T4            Off  | 00000000:00:04.0 Off |                    0 |\n",
            "| N/A   40C    P8     9W /  70W |      0MiB / 15079MiB |      0%      Default |\n",
            "|                               |                      |                 ERR! |\n",
            "+-------------------------------+----------------------+----------------------+\n",
            "                                                                               \n",
            "+-----------------------------------------------------------------------------+\n",
            "| Processes:                                                                  |\n",
            "|  GPU   GI   CI        PID   Type   Process name                  GPU Memory |\n",
            "|        ID   ID                                                   Usage      |\n",
            "|=============================================================================|\n",
            "|  No running processes found                                                 |\n",
            "+-----------------------------------------------------------------------------+\n"
          ],
          "name": "stdout"
        }
      ]
    },
    {
      "cell_type": "code",
      "metadata": {
        "id": "zA9csLagcI02",
        "colab_type": "code",
        "colab": {}
      },
      "source": [
        "import os"
      ],
      "execution_count": 2,
      "outputs": []
    },
    {
      "cell_type": "code",
      "metadata": {
        "id": "PolBTuJBb_6H",
        "colab_type": "code",
        "colab": {
          "base_uri": "https://localhost:8080/",
          "height": 117
        },
        "outputId": "543f885a-2ef4-442b-ed88-dac16d46f6b5"
      },
      "source": [
        "os.chdir('/content')\n",
        "!rm -r AttnGAN\n",
        "!git clone https://github.com/taoxugit/AttnGAN.git"
      ],
      "execution_count": 4,
      "outputs": [
        {
          "output_type": "stream",
          "text": [
            "rm: cannot remove 'AttnGAN': No such file or directory\n",
            "Cloning into 'AttnGAN'...\n",
            "remote: Enumerating objects: 291, done.\u001b[K\n",
            "remote: Total 291 (delta 0), reused 0 (delta 0), pack-reused 291\u001b[K\n",
            "Receiving objects: 100% (291/291), 36.76 MiB | 37.75 MiB/s, done.\n",
            "Resolving deltas: 100% (167/167), done.\n"
          ],
          "name": "stdout"
        }
      ]
    },
    {
      "cell_type": "code",
      "metadata": {
        "id": "DBM_tUR4fbtm",
        "colab_type": "code",
        "colab": {
          "base_uri": "https://localhost:8080/",
          "height": 320
        },
        "outputId": "04e32b19-65db-4b04-d214-6d22b2b75de2"
      },
      "source": [
        "os.chdir('/content/AttnGAN/data/')\n",
        "!wget --no-check-certificate 'https://docs.google.com/uc?export=download&id=1O_LtUP9sch09QH3s_EBAgLEctBQ5JBSJ' -O birds.zip\n",
        "!unzip -q birds.zip\n",
        "!rm birds.zip\n",
        "!rm -r __MACOSX/"
      ],
      "execution_count": 5,
      "outputs": [
        {
          "output_type": "stream",
          "text": [
            "--2020-08-09 17:59:11--  https://docs.google.com/uc?export=download&id=1O_LtUP9sch09QH3s_EBAgLEctBQ5JBSJ\n",
            "Resolving docs.google.com (docs.google.com)... 74.125.195.138, 74.125.195.100, 74.125.195.101, ...\n",
            "Connecting to docs.google.com (docs.google.com)|74.125.195.138|:443... connected.\n",
            "HTTP request sent, awaiting response... 302 Moved Temporarily\n",
            "Location: https://doc-0o-9g-docs.googleusercontent.com/docs/securesc/ha0ro937gcuc7l7deffksulhg5h7mbp1/9nhh9blhblvdq8lqn176lpakcisd67f0/1596995925000/09657060183789739732/*/1O_LtUP9sch09QH3s_EBAgLEctBQ5JBSJ?e=download [following]\n",
            "Warning: wildcards not supported in HTTP.\n",
            "--2020-08-09 17:59:37--  https://doc-0o-9g-docs.googleusercontent.com/docs/securesc/ha0ro937gcuc7l7deffksulhg5h7mbp1/9nhh9blhblvdq8lqn176lpakcisd67f0/1596995925000/09657060183789739732/*/1O_LtUP9sch09QH3s_EBAgLEctBQ5JBSJ?e=download\n",
            "Resolving doc-0o-9g-docs.googleusercontent.com (doc-0o-9g-docs.googleusercontent.com)... 74.125.135.132, 2607:f8b0:400e:c01::84\n",
            "Connecting to doc-0o-9g-docs.googleusercontent.com (doc-0o-9g-docs.googleusercontent.com)|74.125.135.132|:443... connected.\n",
            "HTTP request sent, awaiting response... 200 OK\n",
            "Length: unspecified [application/zip]\n",
            "Saving to: ‘birds.zip’\n",
            "\n",
            "birds.zip               [ <=>                ]   6.19M  --.-KB/s    in 0.1s    \n",
            "\n",
            "2020-08-09 17:59:38 (47.3 MB/s) - ‘birds.zip’ saved [6488322]\n",
            "\n"
          ],
          "name": "stdout"
        }
      ]
    },
    {
      "cell_type": "code",
      "metadata": {
        "id": "9oOwplfXf6aK",
        "colab_type": "code",
        "colab": {}
      },
      "source": [
        "os.chdir('/content/AttnGAN/data/birds')\n",
        "!unzip -q text.zip\n",
        "!rm text.zip"
      ],
      "execution_count": 6,
      "outputs": []
    },
    {
      "cell_type": "code",
      "metadata": {
        "id": "T5ueMbDcgYo2",
        "colab_type": "code",
        "colab": {
          "base_uri": "https://localhost:8080/",
          "height": 437
        },
        "outputId": "15003d22-29c4-48c0-e1c5-e02f561a6bff"
      },
      "source": [
        "#Changing Working dirctory to birds\n",
        "os.chdir('/content/AttnGAN/data/birds/')\n",
        "!wget --load-cookies /tmp/cookies.txt \"https://docs.google.com/uc?export=download&confirm=$(wget --quiet --save-cookies /tmp/cookies.txt --keep-session-cookies --no-check-certificate 'https://docs.google.com/uc?export=download&id=1hbzc_P1FuxMkcabkgn9ZKinBwW683j45' -O- | sed -rn 's/.*confirm=([0-9A-Za-z_]+).*/\\1\\n/p')&id=1hbzc_P1FuxMkcabkgn9ZKinBwW683j45\" -O CUB_200_2011.tgz && rm -rf /tmp/cookies.txt\n",
        "!tar zxf  CUB_200_2011.tgz\n",
        "!rm CUB_200_2011.tgz"
      ],
      "execution_count": 7,
      "outputs": [
        {
          "output_type": "stream",
          "text": [
            "--2020-08-09 17:59:49--  https://docs.google.com/uc?export=download&confirm=6nEW&id=1hbzc_P1FuxMkcabkgn9ZKinBwW683j45\n",
            "Resolving docs.google.com (docs.google.com)... 74.125.28.101, 74.125.28.113, 74.125.28.139, ...\n",
            "Connecting to docs.google.com (docs.google.com)|74.125.28.101|:443... connected.\n",
            "HTTP request sent, awaiting response... 302 Moved Temporarily\n",
            "Location: https://doc-08-a4-docs.googleusercontent.com/docs/securesc/14n30afojd2454vgpqcrds38djcetcf2/mf5o33jaqhoh0rm5u0vo9mmgge2slikh/1596995925000/15424859768005087218/15934156804917141199Z/1hbzc_P1FuxMkcabkgn9ZKinBwW683j45?e=download [following]\n",
            "--2020-08-09 17:59:49--  https://doc-08-a4-docs.googleusercontent.com/docs/securesc/14n30afojd2454vgpqcrds38djcetcf2/mf5o33jaqhoh0rm5u0vo9mmgge2slikh/1596995925000/15424859768005087218/15934156804917141199Z/1hbzc_P1FuxMkcabkgn9ZKinBwW683j45?e=download\n",
            "Resolving doc-08-a4-docs.googleusercontent.com (doc-08-a4-docs.googleusercontent.com)... 74.125.135.132, 2607:f8b0:400e:c01::84\n",
            "Connecting to doc-08-a4-docs.googleusercontent.com (doc-08-a4-docs.googleusercontent.com)|74.125.135.132|:443... connected.\n",
            "HTTP request sent, awaiting response... 302 Found\n",
            "Location: https://docs.google.com/nonceSigner?nonce=fqopqodcftkmi&continue=https://doc-08-a4-docs.googleusercontent.com/docs/securesc/14n30afojd2454vgpqcrds38djcetcf2/mf5o33jaqhoh0rm5u0vo9mmgge2slikh/1596995925000/15424859768005087218/15934156804917141199Z/1hbzc_P1FuxMkcabkgn9ZKinBwW683j45?e%3Ddownload&hash=o3q0u6hks9t6echogkvlauv29h19q713 [following]\n",
            "--2020-08-09 17:59:49--  https://docs.google.com/nonceSigner?nonce=fqopqodcftkmi&continue=https://doc-08-a4-docs.googleusercontent.com/docs/securesc/14n30afojd2454vgpqcrds38djcetcf2/mf5o33jaqhoh0rm5u0vo9mmgge2slikh/1596995925000/15424859768005087218/15934156804917141199Z/1hbzc_P1FuxMkcabkgn9ZKinBwW683j45?e%3Ddownload&hash=o3q0u6hks9t6echogkvlauv29h19q713\n",
            "Connecting to docs.google.com (docs.google.com)|74.125.28.101|:443... connected.\n",
            "HTTP request sent, awaiting response... 302 Found\n",
            "Location: https://doc-08-a4-docs.googleusercontent.com/docs/securesc/14n30afojd2454vgpqcrds38djcetcf2/mf5o33jaqhoh0rm5u0vo9mmgge2slikh/1596995925000/15424859768005087218/15934156804917141199Z/1hbzc_P1FuxMkcabkgn9ZKinBwW683j45?e=download&nonce=fqopqodcftkmi&user=15934156804917141199Z&hash=79a4tk0qe20o63m2u8pt7uct4o381sbt [following]\n",
            "--2020-08-09 17:59:49--  https://doc-08-a4-docs.googleusercontent.com/docs/securesc/14n30afojd2454vgpqcrds38djcetcf2/mf5o33jaqhoh0rm5u0vo9mmgge2slikh/1596995925000/15424859768005087218/15934156804917141199Z/1hbzc_P1FuxMkcabkgn9ZKinBwW683j45?e=download&nonce=fqopqodcftkmi&user=15934156804917141199Z&hash=79a4tk0qe20o63m2u8pt7uct4o381sbt\n",
            "Connecting to doc-08-a4-docs.googleusercontent.com (doc-08-a4-docs.googleusercontent.com)|74.125.135.132|:443... connected.\n",
            "HTTP request sent, awaiting response... 200 OK\n",
            "Length: unspecified [application/x-gtar]\n",
            "Saving to: ‘CUB_200_2011.tgz’\n",
            "\n",
            "CUB_200_2011.tgz        [  <=>               ]   1.07G   145MB/s    in 7.4s    \n",
            "\n",
            "2020-08-09 17:59:57 (149 MB/s) - ‘CUB_200_2011.tgz’ saved [1150585339]\n",
            "\n"
          ],
          "name": "stdout"
        }
      ]
    },
    {
      "cell_type": "code",
      "metadata": {
        "id": "XaEngHiXsOr3",
        "colab_type": "code",
        "colab": {
          "base_uri": "https://localhost:8080/",
          "height": 503
        },
        "outputId": "d6753f8e-112f-4476-f7bb-7cf16f218565"
      },
      "source": [
        "os.chdir('/content/AttnGAN/code/')\n",
        "!wget --no-check-certificate 'https://docs.google.com/uc?export=download&id=1Wr3lQajG7m6Bi3rYFTJb6mwE_d8su111' -O Pillow.rar\n",
        "!unrar x  Pillow.rar\n",
        "!rm Pillow.rar"
      ],
      "execution_count": 8,
      "outputs": [
        {
          "output_type": "stream",
          "text": [
            "--2020-08-09 18:00:23--  https://docs.google.com/uc?export=download&id=1Wr3lQajG7m6Bi3rYFTJb6mwE_d8su111\n",
            "Resolving docs.google.com (docs.google.com)... 74.125.142.101, 74.125.142.100, 74.125.142.139, ...\n",
            "Connecting to docs.google.com (docs.google.com)|74.125.142.101|:443... connected.\n",
            "HTTP request sent, awaiting response... 302 Moved Temporarily\n",
            "Location: https://doc-04-6c-docs.googleusercontent.com/docs/securesc/ha0ro937gcuc7l7deffksulhg5h7mbp1/pi3442f8nj5n88h8lhu2i8r9dhff1b07/1596996000000/17309505201871794426/*/1Wr3lQajG7m6Bi3rYFTJb6mwE_d8su111?e=download [following]\n",
            "Warning: wildcards not supported in HTTP.\n",
            "--2020-08-09 18:00:23--  https://doc-04-6c-docs.googleusercontent.com/docs/securesc/ha0ro937gcuc7l7deffksulhg5h7mbp1/pi3442f8nj5n88h8lhu2i8r9dhff1b07/1596996000000/17309505201871794426/*/1Wr3lQajG7m6Bi3rYFTJb6mwE_d8su111?e=download\n",
            "Resolving doc-04-6c-docs.googleusercontent.com (doc-04-6c-docs.googleusercontent.com)... 74.125.135.132, 2607:f8b0:400e:c01::84\n",
            "Connecting to doc-04-6c-docs.googleusercontent.com (doc-04-6c-docs.googleusercontent.com)|74.125.135.132|:443... connected.\n",
            "HTTP request sent, awaiting response... 200 OK\n",
            "Length: 257793 (252K) [application/x-rar]\n",
            "Saving to: ‘Pillow.rar’\n",
            "\n",
            "Pillow.rar          100%[===================>] 251.75K  --.-KB/s    in 0.003s  \n",
            "\n",
            "2020-08-09 18:00:24 (97.3 MB/s) - ‘Pillow.rar’ saved [257793/257793]\n",
            "\n",
            "\n",
            "UNRAR 5.50 freeware      Copyright (c) 1993-2017 Alexander Roshal\n",
            "\n",
            "\n",
            "Extracting from Pillow.rar\n",
            "\n",
            "Creating    Pillow                                                    OK\n",
            "Creating    Pillow/Tests                                              OK\n",
            "Creating    Pillow/Tests/fonts                                        OK\n",
            "Extracting  Pillow/Tests/fonts/FreeMono.ttf                              \b\b\b\b 12%\b\b\b\b 25%\b\b\b\b 38%\b\b\b\b 50%\b\b\b\b 63%\b\b\b\b 76%\b\b\b\b 88%\b\b\b\b 99%\b\b\b\b\b  OK \n",
            "All OK\n"
          ],
          "name": "stdout"
        }
      ]
    },
    {
      "cell_type": "code",
      "metadata": {
        "id": "kMT2FQDhlEWy",
        "colab_type": "code",
        "colab": {}
      },
      "source": [
        "os.chdir('/content/AttnGAN/DAMSMencoders/')\n",
        "os.mkdir('bird')"
      ],
      "execution_count": 9,
      "outputs": []
    },
    {
      "cell_type": "code",
      "metadata": {
        "id": "8_-RVVeUkKvD",
        "colab_type": "code",
        "colab": {
          "base_uri": "https://localhost:8080/",
          "height": 150
        },
        "outputId": "b9073d97-5af5-4ce2-fce2-20a2e9d63f06"
      },
      "source": [
        "os.chdir('/content')\n",
        "#Dwonload files config.py, utils.py, datasets.py, pretrain_DAMSM.py\n",
        "!git clone https://github.com/ammarnasr/CUB-Attn-GAN.git\n",
        "\n",
        "# #Move Models text and image encoder to their /content/\n",
        "!mv /content/CUB-Attn-GAN/theModel/text_encoder599.pth /content/\n",
        "!mv /content/CUB-Attn-GAN/theModel/image_encoder599.pth /content/\n",
        "!mv /content/CUB-Attn-GAN/theCode/GAN/netG_epoch_600.pth /content/\n",
        "\n",
        "#Remove the Repo\n",
        "!rm -r /content/CUB-Attn-GAN/\n",
        "\n",
        "#Move Models text and image encoder to their /content/\n",
        "!mv /content/text_encoder599.pth /content/AttnGAN/DAMSMencoders/bird/\n",
        "!mv /content/image_encoder599.pth /content/AttnGAN/DAMSMencoders/bird/\n",
        "!mv /content/netG_epoch_600.pth /content/AttnGAN/models/"
      ],
      "execution_count": 10,
      "outputs": [
        {
          "output_type": "stream",
          "text": [
            "Cloning into 'CUB-Attn-GAN'...\n",
            "remote: Enumerating objects: 292, done.\u001b[K\n",
            "remote: Counting objects: 100% (292/292), done.\u001b[K\n",
            "remote: Compressing objects: 100% (187/187), done.\u001b[K\n",
            "remote: Total 842 (delta 197), reused 193 (delta 103), pack-reused 550\u001b[K\n",
            "Receiving objects: 100% (842/842), 475.00 MiB | 37.71 MiB/s, done.\n",
            "Resolving deltas: 100% (497/497), done.\n",
            "Checking out files: 100% (117/117), done.\n"
          ],
          "name": "stdout"
        }
      ]
    },
    {
      "cell_type": "code",
      "metadata": {
        "id": "KP0lWbppdqIl",
        "colab_type": "code",
        "colab": {}
      },
      "source": [
        "!cp '/content/drive/My Drive/cubModelGAN/netG_epoch_50.pth' '/content/AttnGAN/models/'\n",
        "!cp '/content/drive/My Drive/cubModelGAN/netG_epoch_60.pth' '/content/AttnGAN/models/'\n",
        "!cp '/content/drive/My Drive/cubModelGAN/netG_epoch_70.pth' '/content/AttnGAN/models/'\n",
        "!cp '/content/drive/My Drive/cubModelGAN/netG_epoch_80.pth' '/content/AttnGAN/models/'\n",
        "!cp '/content/drive/My Drive/cubModelGAN/netG_epoch_90.pth' '/content/AttnGAN/models/'\n",
        "!cp '/content/drive/My Drive/cubModelGAN/netG_epoch_100.pth' '/content/AttnGAN/models/'\n",
        "!cp '/content/drive/My Drive/cubModelGAN/netG_epoch_110.pth' '/content/AttnGAN/models/'\n",
        "!cp '/content/drive/My Drive/cubModelGAN/netG_epoch_120.pth' '/content/AttnGAN/models/'\n",
        "!cp '/content/drive/My Drive/cubModelGAN/netG_epoch_130.pth' '/content/AttnGAN/models/'\n",
        "!cp '/content/drive/My Drive/cubModelGAN/netG_epoch_140.pth' '/content/AttnGAN/models/'\n",
        "!cp '/content/drive/My Drive/cubModelGAN/netG_epoch_150.pth' '/content/AttnGAN/models/'\n",
        "!cp '/content/drive/My Drive/cubModelGAN/netG_epoch_160.pth' '/content/AttnGAN/models/'"
      ],
      "execution_count": 11,
      "outputs": []
    },
    {
      "cell_type": "markdown",
      "metadata": {
        "id": "1NhlvNfvcihB",
        "colab_type": "text"
      },
      "source": [
        "==================================================================================================================="
      ]
    },
    {
      "cell_type": "code",
      "metadata": {
        "id": "bL5P9M-ecd1m",
        "colab_type": "code",
        "colab": {
          "base_uri": "https://localhost:8080/",
          "height": 133
        },
        "outputId": "44b4a793-8b75-4c5a-8eca-da665ac5e4c3"
      },
      "source": [
        "os.chdir('/content')\n",
        "!rm -r Validate_a_lot\n",
        "!git clone https://github.com/ammarnasr/Validate_a_lot.git"
      ],
      "execution_count": 12,
      "outputs": [
        {
          "output_type": "stream",
          "text": [
            "rm: cannot remove 'Validate_a_lot': No such file or directory\n",
            "Cloning into 'Validate_a_lot'...\n",
            "remote: Enumerating objects: 19, done.\u001b[K\n",
            "remote: Counting objects: 100% (19/19), done.\u001b[K\n",
            "remote: Compressing objects: 100% (14/14), done.\u001b[K\n",
            "remote: Total 19 (delta 2), reused 16 (delta 2), pack-reused 0\u001b[K\n",
            "Unpacking objects: 100% (19/19), done.\n"
          ],
          "name": "stdout"
        }
      ]
    },
    {
      "cell_type": "code",
      "metadata": {
        "id": "AM32T-eydhVp",
        "colab_type": "code",
        "colab": {}
      },
      "source": [
        "!mv /content/Validate_a_lot/code/utils.py /content/AttnGAN/code/miscc/\n",
        "!mv /content/Validate_a_lot/code/config.py /content/AttnGAN/code/miscc/\n",
        "!mv /content/Validate_a_lot/code/datasets.py /content/AttnGAN/code/\n",
        "!mv /content/Validate_a_lot/code/main.py /content/AttnGAN/code/\n",
        "!mv /content/Validate_a_lot/code/trainer.py /content/AttnGAN/code/\n",
        "!mv /content/Validate_a_lot/code/eval_bird.yml /content/AttnGAN/code/cfg/"
      ],
      "execution_count": 14,
      "outputs": []
    },
    {
      "cell_type": "code",
      "metadata": {
        "id": "Hyy9vb-Ebkac",
        "colab_type": "code",
        "colab": {
          "base_uri": "https://localhost:8080/",
          "height": 1000
        },
        "outputId": "51b1a61c-537e-4ca4-8db0-aff4e2871f6f"
      },
      "source": [
        "os.chdir('/content/AttnGAN/code')\n",
        "\n",
        "!python main.py --cfg cfg/eval_bird.yml --gpu 0"
      ],
      "execution_count": null,
      "outputs": [
        {
          "output_type": "stream",
          "text": [
            "LINE==380\n",
            "-----------------netG------------------------\n",
            "G_NET(\n",
            "  (ca_net): CA_NET(\n",
            "    (fc): Linear(in_features=256, out_features=400, bias=True)\n",
            "    (relu): GLU()\n",
            "  )\n",
            "  (h_net1): INIT_STAGE_G(\n",
            "    (fc): Sequential(\n",
            "      (0): Linear(in_features=200, out_features=16384, bias=False)\n",
            "      (1): BatchNorm1d(16384, eps=1e-05, momentum=0.1, affine=True, track_running_stats=True)\n",
            "      (2): GLU()\n",
            "    )\n",
            "    (upsample1): Sequential(\n",
            "      (0): Upsample(scale_factor=2.0, mode=nearest)\n",
            "      (1): Conv2d(512, 512, kernel_size=(3, 3), stride=(1, 1), padding=(1, 1), bias=False)\n",
            "      (2): BatchNorm2d(512, eps=1e-05, momentum=0.1, affine=True, track_running_stats=True)\n",
            "      (3): GLU()\n",
            "    )\n",
            "    (upsample2): Sequential(\n",
            "      (0): Upsample(scale_factor=2.0, mode=nearest)\n",
            "      (1): Conv2d(256, 256, kernel_size=(3, 3), stride=(1, 1), padding=(1, 1), bias=False)\n",
            "      (2): BatchNorm2d(256, eps=1e-05, momentum=0.1, affine=True, track_running_stats=True)\n",
            "      (3): GLU()\n",
            "    )\n",
            "    (upsample3): Sequential(\n",
            "      (0): Upsample(scale_factor=2.0, mode=nearest)\n",
            "      (1): Conv2d(128, 128, kernel_size=(3, 3), stride=(1, 1), padding=(1, 1), bias=False)\n",
            "      (2): BatchNorm2d(128, eps=1e-05, momentum=0.1, affine=True, track_running_stats=True)\n",
            "      (3): GLU()\n",
            "    )\n",
            "    (upsample4): Sequential(\n",
            "      (0): Upsample(scale_factor=2.0, mode=nearest)\n",
            "      (1): Conv2d(64, 64, kernel_size=(3, 3), stride=(1, 1), padding=(1, 1), bias=False)\n",
            "      (2): BatchNorm2d(64, eps=1e-05, momentum=0.1, affine=True, track_running_stats=True)\n",
            "      (3): GLU()\n",
            "    )\n",
            "  )\n",
            "  (img_net1): GET_IMAGE_G(\n",
            "    (img): Sequential(\n",
            "      (0): Conv2d(32, 3, kernel_size=(3, 3), stride=(1, 1), padding=(1, 1), bias=False)\n",
            "      (1): Tanh()\n",
            "    )\n",
            "  )\n",
            "  (h_net2): NEXT_STAGE_G(\n",
            "    (att): GlobalAttentionGeneral(\n",
            "      (conv_context): Conv2d(256, 32, kernel_size=(1, 1), stride=(1, 1), bias=False)\n",
            "      (sm): Softmax(dim=None)\n",
            "    )\n",
            "    (residual): Sequential(\n",
            "      (0): ResBlock(\n",
            "        (block): Sequential(\n",
            "          (0): Conv2d(64, 128, kernel_size=(3, 3), stride=(1, 1), padding=(1, 1), bias=False)\n",
            "          (1): BatchNorm2d(128, eps=1e-05, momentum=0.1, affine=True, track_running_stats=True)\n",
            "          (2): GLU()\n",
            "          (3): Conv2d(64, 64, kernel_size=(3, 3), stride=(1, 1), padding=(1, 1), bias=False)\n",
            "          (4): BatchNorm2d(64, eps=1e-05, momentum=0.1, affine=True, track_running_stats=True)\n",
            "        )\n",
            "      )\n",
            "      (1): ResBlock(\n",
            "        (block): Sequential(\n",
            "          (0): Conv2d(64, 128, kernel_size=(3, 3), stride=(1, 1), padding=(1, 1), bias=False)\n",
            "          (1): BatchNorm2d(128, eps=1e-05, momentum=0.1, affine=True, track_running_stats=True)\n",
            "          (2): GLU()\n",
            "          (3): Conv2d(64, 64, kernel_size=(3, 3), stride=(1, 1), padding=(1, 1), bias=False)\n",
            "          (4): BatchNorm2d(64, eps=1e-05, momentum=0.1, affine=True, track_running_stats=True)\n",
            "        )\n",
            "      )\n",
            "    )\n",
            "    (upsample): Sequential(\n",
            "      (0): Upsample(scale_factor=2.0, mode=nearest)\n",
            "      (1): Conv2d(64, 64, kernel_size=(3, 3), stride=(1, 1), padding=(1, 1), bias=False)\n",
            "      (2): BatchNorm2d(64, eps=1e-05, momentum=0.1, affine=True, track_running_stats=True)\n",
            "      (3): GLU()\n",
            "    )\n",
            "  )\n",
            "  (img_net2): GET_IMAGE_G(\n",
            "    (img): Sequential(\n",
            "      (0): Conv2d(32, 3, kernel_size=(3, 3), stride=(1, 1), padding=(1, 1), bias=False)\n",
            "      (1): Tanh()\n",
            "    )\n",
            "  )\n",
            "  (h_net3): NEXT_STAGE_G(\n",
            "    (att): GlobalAttentionGeneral(\n",
            "      (conv_context): Conv2d(256, 32, kernel_size=(1, 1), stride=(1, 1), bias=False)\n",
            "      (sm): Softmax(dim=None)\n",
            "    )\n",
            "    (residual): Sequential(\n",
            "      (0): ResBlock(\n",
            "        (block): Sequential(\n",
            "          (0): Conv2d(64, 128, kernel_size=(3, 3), stride=(1, 1), padding=(1, 1), bias=False)\n",
            "          (1): BatchNorm2d(128, eps=1e-05, momentum=0.1, affine=True, track_running_stats=True)\n",
            "          (2): GLU()\n",
            "          (3): Conv2d(64, 64, kernel_size=(3, 3), stride=(1, 1), padding=(1, 1), bias=False)\n",
            "          (4): BatchNorm2d(64, eps=1e-05, momentum=0.1, affine=True, track_running_stats=True)\n",
            "        )\n",
            "      )\n",
            "      (1): ResBlock(\n",
            "        (block): Sequential(\n",
            "          (0): Conv2d(64, 128, kernel_size=(3, 3), stride=(1, 1), padding=(1, 1), bias=False)\n",
            "          (1): BatchNorm2d(128, eps=1e-05, momentum=0.1, affine=True, track_running_stats=True)\n",
            "          (2): GLU()\n",
            "          (3): Conv2d(64, 64, kernel_size=(3, 3), stride=(1, 1), padding=(1, 1), bias=False)\n",
            "          (4): BatchNorm2d(64, eps=1e-05, momentum=0.1, affine=True, track_running_stats=True)\n",
            "        )\n",
            "      )\n",
            "    )\n",
            "    (upsample): Sequential(\n",
            "      (0): Upsample(scale_factor=2.0, mode=nearest)\n",
            "      (1): Conv2d(64, 64, kernel_size=(3, 3), stride=(1, 1), padding=(1, 1), bias=False)\n",
            "      (2): BatchNorm2d(64, eps=1e-05, momentum=0.1, affine=True, track_running_stats=True)\n",
            "      (3): GLU()\n",
            "    )\n",
            "  )\n",
            "  (img_net3): GET_IMAGE_G(\n",
            "    (img): Sequential(\n",
            "      (0): Conv2d(32, 3, kernel_size=(3, 3), stride=(1, 1), padding=(1, 1), bias=False)\n",
            "      (1): Tanh()\n",
            "    )\n",
            "  )\n",
            ")\n",
            "--------------state-dict---------------------\n",
            "Load G from:  ../models/netG_epoch_70.pth\n",
            "!!!!!!!!!!!!!!!!!!!!!!!!!!!!!!!!!!!!!!!!!!!!!!!!!!!!!!!!!!!!!!!!!!!!!!!!\n",
            "save_dir: ../models/netG_epoch_70/valid\n",
            "step:  0\n",
            "Make a new folder:  ../models/netG_epoch_70/valid/single/031.Black_billed_Cuckoo\n",
            "Make a new folder:  ../models/netG_epoch_70/valid/single/001.Black_footed_Albatross\n",
            "Make a new folder:  ../models/netG_epoch_70/valid/single/165.Chestnut_sided_Warbler\n",
            "Make a new folder:  ../models/netG_epoch_70/valid/single/119.Field_Sparrow\n",
            "Make a new folder:  ../models/netG_epoch_70/valid/single/180.Wilson_Warbler\n",
            "Make a new folder:  ../models/netG_epoch_70/valid/single/014.Indigo_Bunting\n",
            "Make a new folder:  ../models/netG_epoch_70/valid/single/083.White_breasted_Kingfisher\n",
            "Make a new folder:  ../models/netG_epoch_70/valid/single/004.Groove_billed_Ani\n",
            "Make a new folder:  ../models/netG_epoch_70/valid/single/037.Acadian_Flycatcher\n",
            "Make a new folder:  ../models/netG_epoch_70/valid/single/049.Boat_tailed_Grackle\n",
            "Make a new folder:  ../models/netG_epoch_70/valid/single/072.Pomarine_Jaeger\n",
            "Make a new folder:  ../models/netG_epoch_70/valid/single/101.White_Pelican\n",
            "Make a new folder:  ../models/netG_epoch_70/valid/single/163.Cape_May_Warbler\n",
            "Make a new folder:  ../models/netG_epoch_70/valid/single/084.Red_legged_Kittiwake\n",
            "Make a new folder:  ../models/netG_epoch_70/valid/single/079.Belted_Kingfisher\n",
            "Make a new folder:  ../models/netG_epoch_70/valid/single/009.Brewer_Blackbird\n",
            "Make a new folder:  ../models/netG_epoch_70/valid/single/033.Yellow_billed_Cuckoo\n",
            "Make a new folder:  ../models/netG_epoch_70/valid/single/186.Cedar_Waxwing\n",
            "Make a new folder:  ../models/netG_epoch_70/valid/single/183.Northern_Waterthrush\n",
            "Make a new folder:  ../models/netG_epoch_70/valid/single/095.Baltimore_Oriole\n",
            "Make a new folder:  ../models/netG_epoch_70/valid/single/156.White_eyed_Vireo\n",
            "Make a new folder:  ../models/netG_epoch_70/valid/single/008.Rhinoceros_Auklet\n",
            "Make a new folder:  ../models/netG_epoch_70/valid/single/051.Horned_Grebe\n",
            "Make a new folder:  ../models/netG_epoch_70/valid/single/114.Black_throated_Sparrow\n",
            "Make a new folder:  ../models/netG_epoch_70/valid/single/098.Scott_Oriole\n",
            "Make a new folder:  ../models/netG_epoch_70/valid/single/006.Least_Auklet\n",
            "Make a new folder:  ../models/netG_epoch_70/valid/single/147.Least_Tern\n",
            "Make a new folder:  ../models/netG_epoch_70/valid/single/066.Western_Gull\n",
            "Make a new folder:  ../models/netG_epoch_70/valid/single/053.Western_Grebe\n",
            "Make a new folder:  ../models/netG_epoch_70/valid/single/038.Great_Crested_Flycatcher\n",
            "Make a new folder:  ../models/netG_epoch_70/valid/single/034.Gray_crowned_Rosy_Finch\n",
            "Make a new folder:  ../models/netG_epoch_70/valid/single/166.Golden_winged_Warbler\n",
            "Make a new folder:  ../models/netG_epoch_70/valid/single/112.Great_Grey_Shrike\n",
            "Make a new folder:  ../models/netG_epoch_70/valid/single/103.Sayornis\n",
            "Make a new folder:  ../models/netG_epoch_70/valid/single/130.Tree_Sparrow\n",
            "Make a new folder:  ../models/netG_epoch_70/valid/single/035.Purple_Finch\n",
            "Make a new folder:  ../models/netG_epoch_70/valid/single/102.Western_Wood_Pewee\n",
            "Make a new folder:  ../models/netG_epoch_70/valid/single/086.Pacific_Loon\n",
            "Make a new folder:  ../models/netG_epoch_70/valid/single/036.Northern_Flicker\n",
            "Make a new folder:  ../models/netG_epoch_70/valid/single/043.Yellow_bellied_Flycatcher\n",
            "Make a new folder:  ../models/netG_epoch_70/valid/single/185.Bohemian_Waxwing\n",
            "Make a new folder:  ../models/netG_epoch_70/valid/single/138.Tree_Swallow\n",
            "Make a new folder:  ../models/netG_epoch_70/valid/single/091.Mockingbird\n",
            "Make a new folder:  ../models/netG_epoch_70/valid/single/135.Bank_Swallow\n",
            "Make a new folder:  ../models/netG_epoch_70/valid/single/187.American_Three_toed_Woodpecker\n",
            "Make a new folder:  ../models/netG_epoch_70/valid/single/096.Hooded_Oriole\n",
            "Make a new folder:  ../models/netG_epoch_70/valid/single/023.Brandt_Cormorant\n",
            "Make a new folder:  ../models/netG_epoch_70/valid/single/121.Grasshopper_Sparrow\n",
            "Make a new folder:  ../models/netG_epoch_70/valid/single/029.American_Crow\n",
            "Make a new folder:  ../models/netG_epoch_70/valid/single/197.Marsh_Wren\n",
            "LINE==380\n",
            "-----------------netG------------------------\n",
            "G_NET(\n",
            "  (ca_net): CA_NET(\n",
            "    (fc): Linear(in_features=256, out_features=400, bias=True)\n",
            "    (relu): GLU()\n",
            "  )\n",
            "  (h_net1): INIT_STAGE_G(\n",
            "    (fc): Sequential(\n",
            "      (0): Linear(in_features=200, out_features=16384, bias=False)\n",
            "      (1): BatchNorm1d(16384, eps=1e-05, momentum=0.1, affine=True, track_running_stats=True)\n",
            "      (2): GLU()\n",
            "    )\n",
            "    (upsample1): Sequential(\n",
            "      (0): Upsample(scale_factor=2.0, mode=nearest)\n",
            "      (1): Conv2d(512, 512, kernel_size=(3, 3), stride=(1, 1), padding=(1, 1), bias=False)\n",
            "      (2): BatchNorm2d(512, eps=1e-05, momentum=0.1, affine=True, track_running_stats=True)\n",
            "      (3): GLU()\n",
            "    )\n",
            "    (upsample2): Sequential(\n",
            "      (0): Upsample(scale_factor=2.0, mode=nearest)\n",
            "      (1): Conv2d(256, 256, kernel_size=(3, 3), stride=(1, 1), padding=(1, 1), bias=False)\n",
            "      (2): BatchNorm2d(256, eps=1e-05, momentum=0.1, affine=True, track_running_stats=True)\n",
            "      (3): GLU()\n",
            "    )\n",
            "    (upsample3): Sequential(\n",
            "      (0): Upsample(scale_factor=2.0, mode=nearest)\n",
            "      (1): Conv2d(128, 128, kernel_size=(3, 3), stride=(1, 1), padding=(1, 1), bias=False)\n",
            "      (2): BatchNorm2d(128, eps=1e-05, momentum=0.1, affine=True, track_running_stats=True)\n",
            "      (3): GLU()\n",
            "    )\n",
            "    (upsample4): Sequential(\n",
            "      (0): Upsample(scale_factor=2.0, mode=nearest)\n",
            "      (1): Conv2d(64, 64, kernel_size=(3, 3), stride=(1, 1), padding=(1, 1), bias=False)\n",
            "      (2): BatchNorm2d(64, eps=1e-05, momentum=0.1, affine=True, track_running_stats=True)\n",
            "      (3): GLU()\n",
            "    )\n",
            "  )\n",
            "  (img_net1): GET_IMAGE_G(\n",
            "    (img): Sequential(\n",
            "      (0): Conv2d(32, 3, kernel_size=(3, 3), stride=(1, 1), padding=(1, 1), bias=False)\n",
            "      (1): Tanh()\n",
            "    )\n",
            "  )\n",
            "  (h_net2): NEXT_STAGE_G(\n",
            "    (att): GlobalAttentionGeneral(\n",
            "      (conv_context): Conv2d(256, 32, kernel_size=(1, 1), stride=(1, 1), bias=False)\n",
            "      (sm): Softmax(dim=None)\n",
            "    )\n",
            "    (residual): Sequential(\n",
            "      (0): ResBlock(\n",
            "        (block): Sequential(\n",
            "          (0): Conv2d(64, 128, kernel_size=(3, 3), stride=(1, 1), padding=(1, 1), bias=False)\n",
            "          (1): BatchNorm2d(128, eps=1e-05, momentum=0.1, affine=True, track_running_stats=True)\n",
            "          (2): GLU()\n",
            "          (3): Conv2d(64, 64, kernel_size=(3, 3), stride=(1, 1), padding=(1, 1), bias=False)\n",
            "          (4): BatchNorm2d(64, eps=1e-05, momentum=0.1, affine=True, track_running_stats=True)\n",
            "        )\n",
            "      )\n",
            "      (1): ResBlock(\n",
            "        (block): Sequential(\n",
            "          (0): Conv2d(64, 128, kernel_size=(3, 3), stride=(1, 1), padding=(1, 1), bias=False)\n",
            "          (1): BatchNorm2d(128, eps=1e-05, momentum=0.1, affine=True, track_running_stats=True)\n",
            "          (2): GLU()\n",
            "          (3): Conv2d(64, 64, kernel_size=(3, 3), stride=(1, 1), padding=(1, 1), bias=False)\n",
            "          (4): BatchNorm2d(64, eps=1e-05, momentum=0.1, affine=True, track_running_stats=True)\n",
            "        )\n",
            "      )\n",
            "    )\n",
            "    (upsample): Sequential(\n",
            "      (0): Upsample(scale_factor=2.0, mode=nearest)\n",
            "      (1): Conv2d(64, 64, kernel_size=(3, 3), stride=(1, 1), padding=(1, 1), bias=False)\n",
            "      (2): BatchNorm2d(64, eps=1e-05, momentum=0.1, affine=True, track_running_stats=True)\n",
            "      (3): GLU()\n",
            "    )\n",
            "  )\n",
            "  (img_net2): GET_IMAGE_G(\n",
            "    (img): Sequential(\n",
            "      (0): Conv2d(32, 3, kernel_size=(3, 3), stride=(1, 1), padding=(1, 1), bias=False)\n",
            "      (1): Tanh()\n",
            "    )\n",
            "  )\n",
            "  (h_net3): NEXT_STAGE_G(\n",
            "    (att): GlobalAttentionGeneral(\n",
            "      (conv_context): Conv2d(256, 32, kernel_size=(1, 1), stride=(1, 1), bias=False)\n",
            "      (sm): Softmax(dim=None)\n",
            "    )\n",
            "    (residual): Sequential(\n",
            "      (0): ResBlock(\n",
            "        (block): Sequential(\n",
            "          (0): Conv2d(64, 128, kernel_size=(3, 3), stride=(1, 1), padding=(1, 1), bias=False)\n",
            "          (1): BatchNorm2d(128, eps=1e-05, momentum=0.1, affine=True, track_running_stats=True)\n",
            "          (2): GLU()\n",
            "          (3): Conv2d(64, 64, kernel_size=(3, 3), stride=(1, 1), padding=(1, 1), bias=False)\n",
            "          (4): BatchNorm2d(64, eps=1e-05, momentum=0.1, affine=True, track_running_stats=True)\n",
            "        )\n",
            "      )\n",
            "      (1): ResBlock(\n",
            "        (block): Sequential(\n",
            "          (0): Conv2d(64, 128, kernel_size=(3, 3), stride=(1, 1), padding=(1, 1), bias=False)\n",
            "          (1): BatchNorm2d(128, eps=1e-05, momentum=0.1, affine=True, track_running_stats=True)\n",
            "          (2): GLU()\n",
            "          (3): Conv2d(64, 64, kernel_size=(3, 3), stride=(1, 1), padding=(1, 1), bias=False)\n",
            "          (4): BatchNorm2d(64, eps=1e-05, momentum=0.1, affine=True, track_running_stats=True)\n",
            "        )\n",
            "      )\n",
            "    )\n",
            "    (upsample): Sequential(\n",
            "      (0): Upsample(scale_factor=2.0, mode=nearest)\n",
            "      (1): Conv2d(64, 64, kernel_size=(3, 3), stride=(1, 1), padding=(1, 1), bias=False)\n",
            "      (2): BatchNorm2d(64, eps=1e-05, momentum=0.1, affine=True, track_running_stats=True)\n",
            "      (3): GLU()\n",
            "    )\n",
            "  )\n",
            "  (img_net3): GET_IMAGE_G(\n",
            "    (img): Sequential(\n",
            "      (0): Conv2d(32, 3, kernel_size=(3, 3), stride=(1, 1), padding=(1, 1), bias=False)\n",
            "      (1): Tanh()\n",
            "    )\n",
            "  )\n",
            ")\n",
            "--------------state-dict---------------------\n",
            "Load G from:  ../models/netG_epoch_80.pth\n",
            "!!!!!!!!!!!!!!!!!!!!!!!!!!!!!!!!!!!!!!!!!!!!!!!!!!!!!!!!!!!!!!!!!!!!!!!!\n",
            "save_dir: ../models/netG_epoch_80/valid\n",
            "step:  0\n",
            "Make a new folder:  ../models/netG_epoch_80/valid/single/166.Golden_winged_Warbler\n",
            "Make a new folder:  ../models/netG_epoch_80/valid/single/053.Western_Grebe\n",
            "Make a new folder:  ../models/netG_epoch_80/valid/single/001.Black_footed_Albatross\n",
            "Make a new folder:  ../models/netG_epoch_80/valid/single/049.Boat_tailed_Grackle\n",
            "Make a new folder:  ../models/netG_epoch_80/valid/single/066.Western_Gull\n",
            "Make a new folder:  ../models/netG_epoch_80/valid/single/103.Sayornis\n",
            "Make a new folder:  ../models/netG_epoch_80/valid/single/091.Mockingbird\n",
            "Make a new folder:  ../models/netG_epoch_80/valid/single/031.Black_billed_Cuckoo\n",
            "Make a new folder:  ../models/netG_epoch_80/valid/single/197.Marsh_Wren\n",
            "Make a new folder:  ../models/netG_epoch_80/valid/single/187.American_Three_toed_Woodpecker\n",
            "Make a new folder:  ../models/netG_epoch_80/valid/single/043.Yellow_bellied_Flycatcher\n",
            "Make a new folder:  ../models/netG_epoch_80/valid/single/096.Hooded_Oriole\n",
            "Make a new folder:  ../models/netG_epoch_80/valid/single/051.Horned_Grebe\n",
            "Make a new folder:  ../models/netG_epoch_80/valid/single/121.Grasshopper_Sparrow\n",
            "Make a new folder:  ../models/netG_epoch_80/valid/single/101.White_Pelican\n",
            "Make a new folder:  ../models/netG_epoch_80/valid/single/036.Northern_Flicker\n",
            "Make a new folder:  ../models/netG_epoch_80/valid/single/033.Yellow_billed_Cuckoo\n",
            "Make a new folder:  ../models/netG_epoch_80/valid/single/095.Baltimore_Oriole\n",
            "Make a new folder:  ../models/netG_epoch_80/valid/single/004.Groove_billed_Ani\n",
            "Make a new folder:  ../models/netG_epoch_80/valid/single/009.Brewer_Blackbird\n",
            "Make a new folder:  ../models/netG_epoch_80/valid/single/086.Pacific_Loon\n",
            "Make a new folder:  ../models/netG_epoch_80/valid/single/185.Bohemian_Waxwing\n",
            "Make a new folder:  ../models/netG_epoch_80/valid/single/138.Tree_Swallow\n",
            "Make a new folder:  ../models/netG_epoch_80/valid/single/163.Cape_May_Warbler\n",
            "Make a new folder:  ../models/netG_epoch_80/valid/single/035.Purple_Finch\n",
            "Make a new folder:  ../models/netG_epoch_80/valid/single/038.Great_Crested_Flycatcher\n",
            "Make a new folder:  ../models/netG_epoch_80/valid/single/165.Chestnut_sided_Warbler\n",
            "Make a new folder:  ../models/netG_epoch_80/valid/single/037.Acadian_Flycatcher\n",
            "Make a new folder:  ../models/netG_epoch_80/valid/single/079.Belted_Kingfisher\n",
            "Make a new folder:  ../models/netG_epoch_80/valid/single/147.Least_Tern\n",
            "Make a new folder:  ../models/netG_epoch_80/valid/single/006.Least_Auklet\n",
            "Make a new folder:  ../models/netG_epoch_80/valid/single/014.Indigo_Bunting\n",
            "Make a new folder:  ../models/netG_epoch_80/valid/single/135.Bank_Swallow\n",
            "Make a new folder:  ../models/netG_epoch_80/valid/single/186.Cedar_Waxwing\n",
            "Make a new folder:  ../models/netG_epoch_80/valid/single/023.Brandt_Cormorant\n",
            "Make a new folder:  ../models/netG_epoch_80/valid/single/072.Pomarine_Jaeger\n",
            "Make a new folder:  ../models/netG_epoch_80/valid/single/112.Great_Grey_Shrike\n",
            "Make a new folder:  ../models/netG_epoch_80/valid/single/083.White_breasted_Kingfisher\n",
            "Make a new folder:  ../models/netG_epoch_80/valid/single/102.Western_Wood_Pewee\n",
            "Make a new folder:  ../models/netG_epoch_80/valid/single/130.Tree_Sparrow\n",
            "Make a new folder:  ../models/netG_epoch_80/valid/single/008.Rhinoceros_Auklet\n",
            "Make a new folder:  ../models/netG_epoch_80/valid/single/029.American_Crow\n",
            "Make a new folder:  ../models/netG_epoch_80/valid/single/183.Northern_Waterthrush\n",
            "Make a new folder:  ../models/netG_epoch_80/valid/single/156.White_eyed_Vireo\n",
            "Make a new folder:  ../models/netG_epoch_80/valid/single/098.Scott_Oriole\n",
            "Make a new folder:  ../models/netG_epoch_80/valid/single/114.Black_throated_Sparrow\n",
            "Make a new folder:  ../models/netG_epoch_80/valid/single/180.Wilson_Warbler\n",
            "Make a new folder:  ../models/netG_epoch_80/valid/single/034.Gray_crowned_Rosy_Finch\n",
            "Make a new folder:  ../models/netG_epoch_80/valid/single/084.Red_legged_Kittiwake\n",
            "Make a new folder:  ../models/netG_epoch_80/valid/single/119.Field_Sparrow\n"
          ],
          "name": "stdout"
        }
      ]
    },
    {
      "cell_type": "markdown",
      "metadata": {
        "id": "aPs_qjtGwTuU",
        "colab_type": "text"
      },
      "source": [
        "### Zip /content/AttnGAN/models/netG_epoch_600"
      ]
    },
    {
      "cell_type": "code",
      "metadata": {
        "id": "vQNXDCK-ZsWQ",
        "colab_type": "code",
        "colab": {}
      },
      "source": [
        "os.chdir('/content/AttnGAN/models')\n",
        "!zip -r netG_epoch_50.zip netG_epoch_50\n",
        "!zip -r netG_epoch_60.zip netG_epoch_60\n",
        "!zip -r netG_epoch_70.zip netG_epoch_70\n",
        "!zip -r netG_epoch_80.zip netG_epoch_80\n",
        "!zip -r netG_epoch_90.zip netG_epoch_90\n",
        "!zip -r netG_epoch_100.zip netG_epoch_100\n",
        "!zip -r netG_epoch_110.zip netG_epoch_110\n",
        "!zip -r netG_epoch_120.zip netG_epoch_120\n",
        "!zip -r netG_epoch_130.zip netG_epoch_130\n",
        "!zip -r netG_epoch_140.zip netG_epoch_140\n",
        "!zip -r netG_epoch_150.zip netG_epoch_150\n",
        "!zip -r netG_epoch_160.zip netG_epoch_160"
      ],
      "execution_count": null,
      "outputs": []
    },
    {
      "cell_type": "code",
      "metadata": {
        "id": "om7wrmbLb7Rh",
        "colab_type": "code",
        "colab": {}
      },
      "source": [
        "os.chdir('/content/AttnGAN/models')\n",
        "!zip -r B_val_true.zip netG_epoch_600"
      ],
      "execution_count": null,
      "outputs": []
    },
    {
      "cell_type": "code",
      "metadata": {
        "id": "u3K2hYHG6BJF",
        "colab_type": "code",
        "colab": {}
      },
      "source": [
        "!cp '/content/AttnGAN/models/B_val_true.zip' '/content/drive/My Drive/B_val_true/'"
      ],
      "execution_count": null,
      "outputs": []
    },
    {
      "cell_type": "code",
      "metadata": {
        "id": "DQfw6Wr_6LzM",
        "colab_type": "code",
        "colab": {}
      },
      "source": [
        "!cp -r '/content/AttnGAN/models/' '/content/drive/My Drive/Modified_Validation/'"
      ],
      "execution_count": null,
      "outputs": []
    },
    {
      "cell_type": "code",
      "metadata": {
        "id": "Fa7msPYSB1L8",
        "colab_type": "code",
        "colab": {}
      },
      "source": [
        "!cp -r '/content/AttnGAN/models/netG_epoch_600/valid/single/' '/content/'"
      ],
      "execution_count": null,
      "outputs": []
    },
    {
      "cell_type": "markdown",
      "metadata": {
        "id": "17K4754i7U0e",
        "colab_type": "text"
      },
      "source": [
        "# Validiate"
      ]
    },
    {
      "cell_type": "code",
      "metadata": {
        "id": "asxeaLP97AbP",
        "colab_type": "code",
        "colab": {}
      },
      "source": [
        "import os\n",
        "os.chdir('/content')"
      ],
      "execution_count": null,
      "outputs": []
    },
    {
      "cell_type": "code",
      "metadata": {
        "id": "fVSxq-I97lqh",
        "colab_type": "code",
        "colab": {}
      },
      "source": [
        "os.chdir('/content')\n",
        "!git clone https://github.com/hanzhanggit/StackGAN-inception-model.git"
      ],
      "execution_count": null,
      "outputs": []
    },
    {
      "cell_type": "code",
      "metadata": {
        "id": "5brgrOz09n7_",
        "colab_type": "code",
        "colab": {}
      },
      "source": [
        "os.chdir('/content/StackGAN-inception-model/')\n",
        "!wget --load-cookies /tmp/cookies.txt \"https://docs.google.com/uc?export=download&confirm=$(wget --quiet --save-cookies /tmp/cookies.txt --keep-session-cookies --no-check-certificate 'https://docs.google.com/uc?export=download&id=0B3y_msrWZaXLMzNMNWhWdW0zVWs' -O- | sed -rn 's/.*confirm=([0-9A-Za-z_]+).*/\\1\\n/p')&id=0B3y_msrWZaXLMzNMNWhWdW0zVWs\" -O inception_finetuned_models.zip && rm -rf /tmp/cookies.txt\n",
        "!unzip -q inception_finetuned_models.zip\n",
        "!rm inception_finetuned_models.zip\n",
        "!rm README.md\n",
        "!rm -r __MACOSX/"
      ],
      "execution_count": null,
      "outputs": []
    },
    {
      "cell_type": "code",
      "metadata": {
        "id": "aMV2BWfXCnzk",
        "colab_type": "code",
        "colab": {}
      },
      "source": [
        "!pip install scipy==1.1.0"
      ],
      "execution_count": null,
      "outputs": []
    },
    {
      "cell_type": "markdown",
      "metadata": {
        "id": "Xi8pXmQiAZAW",
        "colab_type": "text"
      },
      "source": [
        "==================================================================================================================="
      ]
    },
    {
      "cell_type": "code",
      "metadata": {
        "id": "TLuWxh9-AXAn",
        "colab_type": "code",
        "colab": {}
      },
      "source": [
        "os.chdir('/content')\n",
        "!rm -r Validate-CUB\n",
        "!git clone https://github.com/ammarnasr/Validate-CUB.git"
      ],
      "execution_count": null,
      "outputs": []
    },
    {
      "cell_type": "code",
      "metadata": {
        "id": "MjbwWJ_KAljQ",
        "colab_type": "code",
        "colab": {}
      },
      "source": [
        "!mv /content/Validate-CUB/code/inception_score.py /content/StackGAN-inception-model/"
      ],
      "execution_count": null,
      "outputs": []
    },
    {
      "cell_type": "code",
      "metadata": {
        "id": "EvcpNzGb8sof",
        "colab_type": "code",
        "colab": {}
      },
      "source": [
        "os.chdir('/content/StackGAN-inception-model/')\n",
        "%tensorflow_version 1.x\n",
        "!python inception_score.py --image_folder '/content/single/'"
      ],
      "execution_count": null,
      "outputs": []
    }
  ]
}