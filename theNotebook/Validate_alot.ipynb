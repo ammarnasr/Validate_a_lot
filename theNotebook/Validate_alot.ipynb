{
  "nbformat": 4,
  "nbformat_minor": 0,
  "metadata": {
    "colab": {
      "name": "Validate_alot.ipynb",
      "provenance": [],
      "collapsed_sections": [],
      "toc_visible": true
    },
    "kernelspec": {
      "name": "python3",
      "display_name": "Python 3"
    },
    "accelerator": "GPU"
  },
  "cells": [
    {
      "cell_type": "code",
      "metadata": {
        "id": "EnQU7wEOxIfE",
        "colab_type": "code",
        "colab": {
          "base_uri": "https://localhost:8080/",
          "height": 350
        },
        "outputId": "83be8c39-db12-4024-83b1-f7d72f846f48"
      },
      "source": [
        "!nvidia-smi #Fri Jun 19 18:08:52 2020   "
      ],
      "execution_count": 1,
      "outputs": [
        {
          "output_type": "stream",
          "text": [
            "Sun Aug  9 13:42:45 2020       \n",
            "+-----------------------------------------------------------------------------+\n",
            "| NVIDIA-SMI 450.57       Driver Version: 418.67       CUDA Version: 10.1     |\n",
            "|-------------------------------+----------------------+----------------------+\n",
            "| GPU  Name        Persistence-M| Bus-Id        Disp.A | Volatile Uncorr. ECC |\n",
            "| Fan  Temp  Perf  Pwr:Usage/Cap|         Memory-Usage | GPU-Util  Compute M. |\n",
            "|                               |                      |               MIG M. |\n",
            "|===============================+======================+======================|\n",
            "|   0  Tesla K80           Off  | 00000000:00:04.0 Off |                    0 |\n",
            "| N/A   38C    P8    26W / 149W |      0MiB / 11441MiB |      0%      Default |\n",
            "|                               |                      |                 ERR! |\n",
            "+-------------------------------+----------------------+----------------------+\n",
            "                                                                               \n",
            "+-----------------------------------------------------------------------------+\n",
            "| Processes:                                                                  |\n",
            "|  GPU   GI   CI        PID   Type   Process name                  GPU Memory |\n",
            "|        ID   ID                                                   Usage      |\n",
            "|=============================================================================|\n",
            "|  No running processes found                                                 |\n",
            "+-----------------------------------------------------------------------------+\n"
          ],
          "name": "stdout"
        }
      ]
    },
    {
      "cell_type": "code",
      "metadata": {
        "id": "zA9csLagcI02",
        "colab_type": "code",
        "colab": {}
      },
      "source": [
        "import os"
      ],
      "execution_count": 3,
      "outputs": []
    },
    {
      "cell_type": "code",
      "metadata": {
        "id": "PolBTuJBb_6H",
        "colab_type": "code",
        "colab": {
          "base_uri": "https://localhost:8080/",
          "height": 117
        },
        "outputId": "1a62d422-bf7f-4e45-88c1-bd7045eaf434"
      },
      "source": [
        "os.chdir('/content')\n",
        "!rm -r AttnGAN\n",
        "!git clone https://github.com/taoxugit/AttnGAN.git"
      ],
      "execution_count": 4,
      "outputs": [
        {
          "output_type": "stream",
          "text": [
            "rm: cannot remove 'AttnGAN': No such file or directory\n",
            "Cloning into 'AttnGAN'...\n",
            "remote: Enumerating objects: 291, done.\u001b[K\n",
            "remote: Total 291 (delta 0), reused 0 (delta 0), pack-reused 291\u001b[K\n",
            "Receiving objects: 100% (291/291), 36.76 MiB | 16.92 MiB/s, done.\n",
            "Resolving deltas: 100% (167/167), done.\n"
          ],
          "name": "stdout"
        }
      ]
    },
    {
      "cell_type": "code",
      "metadata": {
        "id": "DBM_tUR4fbtm",
        "colab_type": "code",
        "colab": {
          "base_uri": "https://localhost:8080/",
          "height": 320
        },
        "outputId": "43904f97-bcaa-4465-bb8f-d04e199bdef5"
      },
      "source": [
        "os.chdir('/content/AttnGAN/data/')\n",
        "!wget --no-check-certificate 'https://docs.google.com/uc?export=download&id=1O_LtUP9sch09QH3s_EBAgLEctBQ5JBSJ' -O birds.zip\n",
        "!unzip -q birds.zip\n",
        "!rm birds.zip\n",
        "!rm -r __MACOSX/"
      ],
      "execution_count": 5,
      "outputs": [
        {
          "output_type": "stream",
          "text": [
            "--2020-08-09 13:43:50--  https://docs.google.com/uc?export=download&id=1O_LtUP9sch09QH3s_EBAgLEctBQ5JBSJ\n",
            "Resolving docs.google.com (docs.google.com)... 108.177.15.113, 108.177.15.100, 108.177.15.102, ...\n",
            "Connecting to docs.google.com (docs.google.com)|108.177.15.113|:443... connected.\n",
            "HTTP request sent, awaiting response... 302 Moved Temporarily\n",
            "Location: https://doc-0o-9g-docs.googleusercontent.com/docs/securesc/ha0ro937gcuc7l7deffksulhg5h7mbp1/mnrqpn4s3bmqg19qkdm0270b7rr7ps8f/1596980625000/09657060183789739732/*/1O_LtUP9sch09QH3s_EBAgLEctBQ5JBSJ?e=download [following]\n",
            "Warning: wildcards not supported in HTTP.\n",
            "--2020-08-09 13:44:20--  https://doc-0o-9g-docs.googleusercontent.com/docs/securesc/ha0ro937gcuc7l7deffksulhg5h7mbp1/mnrqpn4s3bmqg19qkdm0270b7rr7ps8f/1596980625000/09657060183789739732/*/1O_LtUP9sch09QH3s_EBAgLEctBQ5JBSJ?e=download\n",
            "Resolving doc-0o-9g-docs.googleusercontent.com (doc-0o-9g-docs.googleusercontent.com)... 74.125.71.132, 2a00:1450:400c:c02::84\n",
            "Connecting to doc-0o-9g-docs.googleusercontent.com (doc-0o-9g-docs.googleusercontent.com)|74.125.71.132|:443... connected.\n",
            "HTTP request sent, awaiting response... 200 OK\n",
            "Length: unspecified [application/zip]\n",
            "Saving to: ‘birds.zip’\n",
            "\n",
            "birds.zip               [ <=>                ]   6.19M  --.-KB/s    in 0.1s    \n",
            "\n",
            "2020-08-09 13:44:21 (46.2 MB/s) - ‘birds.zip’ saved [6488322]\n",
            "\n"
          ],
          "name": "stdout"
        }
      ]
    },
    {
      "cell_type": "code",
      "metadata": {
        "id": "9oOwplfXf6aK",
        "colab_type": "code",
        "colab": {}
      },
      "source": [
        "os.chdir('/content/AttnGAN/data/birds')\n",
        "!unzip -q text.zip\n",
        "!rm text.zip"
      ],
      "execution_count": 6,
      "outputs": []
    },
    {
      "cell_type": "code",
      "metadata": {
        "id": "T5ueMbDcgYo2",
        "colab_type": "code",
        "colab": {
          "base_uri": "https://localhost:8080/",
          "height": 437
        },
        "outputId": "4cdfdaa9-f3ff-4081-c77a-d3c61e5bf50e"
      },
      "source": [
        "#Changing Working dirctory to birds\n",
        "os.chdir('/content/AttnGAN/data/birds/')\n",
        "!wget --load-cookies /tmp/cookies.txt \"https://docs.google.com/uc?export=download&confirm=$(wget --quiet --save-cookies /tmp/cookies.txt --keep-session-cookies --no-check-certificate 'https://docs.google.com/uc?export=download&id=1hbzc_P1FuxMkcabkgn9ZKinBwW683j45' -O- | sed -rn 's/.*confirm=([0-9A-Za-z_]+).*/\\1\\n/p')&id=1hbzc_P1FuxMkcabkgn9ZKinBwW683j45\" -O CUB_200_2011.tgz && rm -rf /tmp/cookies.txt\n",
        "!tar zxf  CUB_200_2011.tgz\n",
        "!rm CUB_200_2011.tgz"
      ],
      "execution_count": 7,
      "outputs": [
        {
          "output_type": "stream",
          "text": [
            "--2020-08-09 13:44:35--  https://docs.google.com/uc?export=download&confirm=1MaE&id=1hbzc_P1FuxMkcabkgn9ZKinBwW683j45\n",
            "Resolving docs.google.com (docs.google.com)... 173.194.76.102, 173.194.76.139, 173.194.76.100, ...\n",
            "Connecting to docs.google.com (docs.google.com)|173.194.76.102|:443... connected.\n",
            "HTTP request sent, awaiting response... 302 Moved Temporarily\n",
            "Location: https://doc-00-50-docs.googleusercontent.com/docs/securesc/1gbgdq24ufopj8d56bv1idav1430m85v/6j23fpcdag1h3dmkah5apjmg5m22daqg/1596980625000/15424859768005087218/03687188437806907290Z/1hbzc_P1FuxMkcabkgn9ZKinBwW683j45?e=download [following]\n",
            "--2020-08-09 13:44:35--  https://doc-00-50-docs.googleusercontent.com/docs/securesc/1gbgdq24ufopj8d56bv1idav1430m85v/6j23fpcdag1h3dmkah5apjmg5m22daqg/1596980625000/15424859768005087218/03687188437806907290Z/1hbzc_P1FuxMkcabkgn9ZKinBwW683j45?e=download\n",
            "Resolving doc-00-50-docs.googleusercontent.com (doc-00-50-docs.googleusercontent.com)... 74.125.71.132, 2a00:1450:400c:c02::84\n",
            "Connecting to doc-00-50-docs.googleusercontent.com (doc-00-50-docs.googleusercontent.com)|74.125.71.132|:443... connected.\n",
            "HTTP request sent, awaiting response... 302 Found\n",
            "Location: https://docs.google.com/nonceSigner?nonce=qti91ls1brk70&continue=https://doc-00-50-docs.googleusercontent.com/docs/securesc/1gbgdq24ufopj8d56bv1idav1430m85v/6j23fpcdag1h3dmkah5apjmg5m22daqg/1596980625000/15424859768005087218/03687188437806907290Z/1hbzc_P1FuxMkcabkgn9ZKinBwW683j45?e%3Ddownload&hash=i47rs5ob5id6r5g7geko7m57udals1mj [following]\n",
            "--2020-08-09 13:44:35--  https://docs.google.com/nonceSigner?nonce=qti91ls1brk70&continue=https://doc-00-50-docs.googleusercontent.com/docs/securesc/1gbgdq24ufopj8d56bv1idav1430m85v/6j23fpcdag1h3dmkah5apjmg5m22daqg/1596980625000/15424859768005087218/03687188437806907290Z/1hbzc_P1FuxMkcabkgn9ZKinBwW683j45?e%3Ddownload&hash=i47rs5ob5id6r5g7geko7m57udals1mj\n",
            "Connecting to docs.google.com (docs.google.com)|173.194.76.102|:443... connected.\n",
            "HTTP request sent, awaiting response... 302 Found\n",
            "Location: https://doc-00-50-docs.googleusercontent.com/docs/securesc/1gbgdq24ufopj8d56bv1idav1430m85v/6j23fpcdag1h3dmkah5apjmg5m22daqg/1596980625000/15424859768005087218/03687188437806907290Z/1hbzc_P1FuxMkcabkgn9ZKinBwW683j45?e=download&nonce=qti91ls1brk70&user=03687188437806907290Z&hash=tj9ffqh9eq82tfjt8hr4gc7589k1ur3g [following]\n",
            "--2020-08-09 13:44:35--  https://doc-00-50-docs.googleusercontent.com/docs/securesc/1gbgdq24ufopj8d56bv1idav1430m85v/6j23fpcdag1h3dmkah5apjmg5m22daqg/1596980625000/15424859768005087218/03687188437806907290Z/1hbzc_P1FuxMkcabkgn9ZKinBwW683j45?e=download&nonce=qti91ls1brk70&user=03687188437806907290Z&hash=tj9ffqh9eq82tfjt8hr4gc7589k1ur3g\n",
            "Connecting to doc-00-50-docs.googleusercontent.com (doc-00-50-docs.googleusercontent.com)|74.125.71.132|:443... connected.\n",
            "HTTP request sent, awaiting response... 200 OK\n",
            "Length: unspecified [application/x-gtar]\n",
            "Saving to: ‘CUB_200_2011.tgz’\n",
            "\n",
            "CUB_200_2011.tgz        [              <=>   ]   1.07G  80.9MB/s    in 16s     \n",
            "\n",
            "2020-08-09 13:44:52 (67.3 MB/s) - ‘CUB_200_2011.tgz’ saved [1150585339]\n",
            "\n"
          ],
          "name": "stdout"
        }
      ]
    },
    {
      "cell_type": "code",
      "metadata": {
        "id": "XaEngHiXsOr3",
        "colab_type": "code",
        "colab": {
          "base_uri": "https://localhost:8080/",
          "height": 503
        },
        "outputId": "a73e7e87-a65f-49b1-9560-3ed4e0a8b073"
      },
      "source": [
        "os.chdir('/content/AttnGAN/code/')\n",
        "!wget --no-check-certificate 'https://docs.google.com/uc?export=download&id=1Wr3lQajG7m6Bi3rYFTJb6mwE_d8su111' -O Pillow.rar\n",
        "!unrar x  Pillow.rar\n",
        "!rm Pillow.rar"
      ],
      "execution_count": 8,
      "outputs": [
        {
          "output_type": "stream",
          "text": [
            "--2020-08-09 13:45:09--  https://docs.google.com/uc?export=download&id=1Wr3lQajG7m6Bi3rYFTJb6mwE_d8su111\n",
            "Resolving docs.google.com (docs.google.com)... 64.233.184.139, 64.233.184.100, 64.233.184.113, ...\n",
            "Connecting to docs.google.com (docs.google.com)|64.233.184.139|:443... connected.\n",
            "HTTP request sent, awaiting response... 302 Moved Temporarily\n",
            "Location: https://doc-04-6c-docs.googleusercontent.com/docs/securesc/ha0ro937gcuc7l7deffksulhg5h7mbp1/2m1nofsgg89bo5butvktjnfp2n3kinuc/1596980700000/17309505201871794426/*/1Wr3lQajG7m6Bi3rYFTJb6mwE_d8su111?e=download [following]\n",
            "Warning: wildcards not supported in HTTP.\n",
            "--2020-08-09 13:45:10--  https://doc-04-6c-docs.googleusercontent.com/docs/securesc/ha0ro937gcuc7l7deffksulhg5h7mbp1/2m1nofsgg89bo5butvktjnfp2n3kinuc/1596980700000/17309505201871794426/*/1Wr3lQajG7m6Bi3rYFTJb6mwE_d8su111?e=download\n",
            "Resolving doc-04-6c-docs.googleusercontent.com (doc-04-6c-docs.googleusercontent.com)... 74.125.71.132, 2a00:1450:400c:c02::84\n",
            "Connecting to doc-04-6c-docs.googleusercontent.com (doc-04-6c-docs.googleusercontent.com)|74.125.71.132|:443... connected.\n",
            "HTTP request sent, awaiting response... 200 OK\n",
            "Length: 257793 (252K) [application/x-rar]\n",
            "Saving to: ‘Pillow.rar’\n",
            "\n",
            "\rPillow.rar            0%[                    ]       0  --.-KB/s               \rPillow.rar          100%[===================>] 251.75K  --.-KB/s    in 0.002s  \n",
            "\n",
            "2020-08-09 13:45:10 (113 MB/s) - ‘Pillow.rar’ saved [257793/257793]\n",
            "\n",
            "\n",
            "UNRAR 5.50 freeware      Copyright (c) 1993-2017 Alexander Roshal\n",
            "\n",
            "\n",
            "Extracting from Pillow.rar\n",
            "\n",
            "Creating    Pillow                                                    OK\n",
            "Creating    Pillow/Tests                                              OK\n",
            "Creating    Pillow/Tests/fonts                                        OK\n",
            "Extracting  Pillow/Tests/fonts/FreeMono.ttf                              \b\b\b\b 12%\b\b\b\b 25%\b\b\b\b 38%\b\b\b\b 50%\b\b\b\b 63%\b\b\b\b 76%\b\b\b\b 88%\b\b\b\b 99%\b\b\b\b\b  OK \n",
            "All OK\n"
          ],
          "name": "stdout"
        }
      ]
    },
    {
      "cell_type": "code",
      "metadata": {
        "id": "kMT2FQDhlEWy",
        "colab_type": "code",
        "colab": {}
      },
      "source": [
        "os.chdir('/content/AttnGAN/DAMSMencoders/')\n",
        "os.mkdir('bird')"
      ],
      "execution_count": 9,
      "outputs": []
    },
    {
      "cell_type": "code",
      "metadata": {
        "id": "8_-RVVeUkKvD",
        "colab_type": "code",
        "colab": {
          "base_uri": "https://localhost:8080/",
          "height": 150
        },
        "outputId": "2aceb94c-e64e-444e-b333-7685a1e59c77"
      },
      "source": [
        "os.chdir('/content')\n",
        "#Dwonload files config.py, utils.py, datasets.py, pretrain_DAMSM.py\n",
        "!git clone https://github.com/ammarnasr/CUB-Attn-GAN.git\n",
        "\n",
        "# #Move Models text and image encoder to their /content/\n",
        "!mv /content/CUB-Attn-GAN/theModel/text_encoder599.pth /content/\n",
        "!mv /content/CUB-Attn-GAN/theModel/image_encoder599.pth /content/\n",
        "!mv /content/CUB-Attn-GAN/theCode/GAN/netG_epoch_600.pth /content/\n",
        "\n",
        "#Remove the Repo\n",
        "!rm -r /content/CUB-Attn-GAN/\n",
        "\n",
        "#Move Models text and image encoder to their /content/\n",
        "!mv /content/text_encoder599.pth /content/AttnGAN/DAMSMencoders/bird/\n",
        "!mv /content/image_encoder599.pth /content/AttnGAN/DAMSMencoders/bird/\n",
        "!mv /content/netG_epoch_600.pth /content/AttnGAN/models/"
      ],
      "execution_count": 10,
      "outputs": [
        {
          "output_type": "stream",
          "text": [
            "Cloning into 'CUB-Attn-GAN'...\n",
            "remote: Enumerating objects: 292, done.\u001b[K\n",
            "remote: Counting objects: 100% (292/292), done.\u001b[K\n",
            "remote: Compressing objects: 100% (187/187), done.\u001b[K\n",
            "remote: Total 842 (delta 197), reused 193 (delta 103), pack-reused 550\u001b[K\n",
            "Receiving objects: 100% (842/842), 475.00 MiB | 13.37 MiB/s, done.\n",
            "Resolving deltas: 100% (497/497), done.\n",
            "Checking out files: 100% (117/117), done.\n"
          ],
          "name": "stdout"
        }
      ]
    },
    {
      "cell_type": "code",
      "metadata": {
        "id": "KP0lWbppdqIl",
        "colab_type": "code",
        "colab": {}
      },
      "source": [
        "!cp '/content/drive/My Drive/cubModelGAN/netG_epoch_50.pth' '/content/AttnGAN/models/'\n",
        "!cp '/content/drive/My Drive/cubModelGAN/netG_epoch_60.pth' '/content/AttnGAN/models/'\n",
        "!cp '/content/drive/My Drive/cubModelGAN/netG_epoch_70.pth' '/content/AttnGAN/models/'\n",
        "!cp '/content/drive/My Drive/cubModelGAN/netG_epoch_80.pth' '/content/AttnGAN/models/'\n",
        "!cp '/content/drive/My Drive/cubModelGAN/netG_epoch_90.pth' '/content/AttnGAN/models/'\n",
        "!cp '/content/drive/My Drive/cubModelGAN/netG_epoch_100.pth' '/content/AttnGAN/models/'\n",
        "!cp '/content/drive/My Drive/cubModelGAN/netG_epoch_110.pth' '/content/AttnGAN/models/'\n",
        "!cp '/content/drive/My Drive/cubModelGAN/netG_epoch_120.pth' '/content/AttnGAN/models/'\n",
        "!cp '/content/drive/My Drive/cubModelGAN/netG_epoch_130.pth' '/content/AttnGAN/models/'\n",
        "!cp '/content/drive/My Drive/cubModelGAN/netG_epoch_140.pth' '/content/AttnGAN/models/'\n",
        "!cp '/content/drive/My Drive/cubModelGAN/netG_epoch_150.pth' '/content/AttnGAN/models/'\n",
        "!cp '/content/drive/My Drive/cubModelGAN/netG_epoch_160.pth' '/content/AttnGAN/models/'"
      ],
      "execution_count": 13,
      "outputs": []
    },
    {
      "cell_type": "markdown",
      "metadata": {
        "id": "1NhlvNfvcihB",
        "colab_type": "text"
      },
      "source": [
        "==================================================================================================================="
      ]
    },
    {
      "cell_type": "code",
      "metadata": {
        "id": "bL5P9M-ecd1m",
        "colab_type": "code",
        "colab": {
          "base_uri": "https://localhost:8080/",
          "height": 150
        },
        "outputId": "b8620d0f-02eb-4af8-9d46-3269046f32ea"
      },
      "source": [
        "os.chdir('/content')\n",
        "!rm -r Validate-CUB\n",
        "!git clone https://github.com/ammarnasr/Validate-CUB.git"
      ],
      "execution_count": null,
      "outputs": [
        {
          "output_type": "stream",
          "text": [
            "rm: cannot remove 'Validate-CUB': No such file or directory\n",
            "Cloning into 'Validate-CUB'...\n",
            "remote: Enumerating objects: 167, done.\u001b[K\n",
            "remote: Counting objects: 100% (167/167), done.\u001b[K\n",
            "remote: Compressing objects: 100% (115/115), done.\u001b[K\n",
            "remote: Total 167 (delta 88), reused 121 (delta 45), pack-reused 0\u001b[K\n",
            "Receiving objects: 100% (167/167), 648.00 KiB | 894.00 KiB/s, done.\n",
            "Resolving deltas: 100% (88/88), done.\n"
          ],
          "name": "stdout"
        }
      ]
    },
    {
      "cell_type": "code",
      "metadata": {
        "id": "AM32T-eydhVp",
        "colab_type": "code",
        "colab": {}
      },
      "source": [
        "!mv /content/Validate-CUB/code/utils.py /content/AttnGAN/code/miscc/\n",
        "!mv /content/Validate-CUB/code/config.py /content/AttnGAN/code/miscc/\n",
        "!mv /content/Validate-CUB/code/datasets.py /content/AttnGAN/code/\n",
        "!mv /content/Validate-CUB/code/main.py /content/AttnGAN/code/\n",
        "!mv /content/Validate-CUB/code/trainer.py /content/AttnGAN/code/\n",
        "!mv /content/Validate-CUB/code/eval_bird.yml /content/AttnGAN/code/cfg/"
      ],
      "execution_count": null,
      "outputs": []
    },
    {
      "cell_type": "code",
      "metadata": {
        "id": "Hyy9vb-Ebkac",
        "colab_type": "code",
        "colab": {
          "base_uri": "https://localhost:8080/",
          "height": 1000
        },
        "outputId": "2f299f25-79a0-4089-b426-158ee7ecbd78"
      },
      "source": [
        "os.chdir('/content/AttnGAN/code')\n",
        "\n",
        "!python main.py --cfg cfg/eval_bird.yml --gpu 0"
      ],
      "execution_count": null,
      "outputs": [
        {
          "output_type": "stream",
          "text": [
            "Using config:\n",
            "{'B_VALIDATION': True,\n",
            " 'CONFIG_NAME': 'attn2',\n",
            " 'CUDA': True,\n",
            " 'DATASET_NAME': 'birds',\n",
            " 'DATA_DIR': '../data/birds',\n",
            " 'GAN': {'B_ATTENTION': True,\n",
            "         'B_DCGAN': False,\n",
            "         'CONDITION_DIM': 100,\n",
            "         'DF_DIM': 64,\n",
            "         'GF_DIM': 32,\n",
            "         'R_NUM': 2,\n",
            "         'Z_DIM': 100},\n",
            " 'GPU_ID': 0,\n",
            " 'RNN_TYPE': 'LSTM',\n",
            " 'TEXT': {'CAPTIONS_PER_IMAGE': 10, 'EMBEDDING_DIM': 256, 'WORDS_NUM': 25},\n",
            " 'TRAIN': {'BATCH_SIZE': 32,\n",
            "           'B_NET_D': False,\n",
            "           'DISCRIMINATOR_LR': 0.0002,\n",
            "           'ENCODER_LR': 0.0002,\n",
            "           'FLAG': False,\n",
            "           'GENERATOR_LR': 0.0002,\n",
            "           'MAX_EPOCH': 600,\n",
            "           'NET_E': '../DAMSMencoders/bird/text_encoder599.pth',\n",
            "           'NET_G': '../models/netG_epoch_600.pth',\n",
            "           'RNN_GRAD_CLIP': 0.25,\n",
            "           'SMOOTH': {'GAMMA1': 5.0,\n",
            "                      'GAMMA2': 5.0,\n",
            "                      'GAMMA3': 10.0,\n",
            "                      'LAMBDA': 1.0},\n",
            "           'SNAPSHOT_INTERVAL': 2000},\n",
            " 'TREE': {'BASE_SIZE': 64, 'BRANCH_NUM': 3},\n",
            " 'WORKERS': 1}\n",
            "/usr/local/lib/python3.6/dist-packages/torchvision/transforms/transforms.py:257: UserWarning: The use of the transforms.Scale transform is deprecated, please use transforms.Resize instead.\n",
            "  \"please use transforms.Resize instead.\")\n",
            "Total filenames:  11788 001.Black_footed_Albatross/Black_Footed_Albatross_0046_18.jpg\n",
            "Load filenames from: ../data/birds/train/filenames.pickle (8855)\n",
            "Load filenames from: ../data/birds/test/filenames.pickle (2933)\n",
            "Load from:  ../data/birds/captions.pickle\n",
            "/content/AttnGAN/code/miscc/utils.py:404: UserWarning: nn.init.orthogonal is now deprecated in favor of nn.init.orthogonal_.\n",
            "  nn.init.orthogonal(m.weight.data, 1.0)\n",
            "/content/AttnGAN/code/miscc/utils.py:399: UserWarning: nn.init.orthogonal is now deprecated in favor of nn.init.orthogonal_.\n",
            "  nn.init.orthogonal(m.weight.data, 1.0)\n",
            "/usr/local/lib/python3.6/dist-packages/torch/nn/modules/rnn.py:60: UserWarning: dropout option adds dropout after all but last recurrent layer, so non-zero dropout expects num_layers greater than 1, but got dropout=0.5 and num_layers=1\n",
            "  \"num_layers={}\".format(dropout, num_layers))\n",
            "Load text encoder from: ../DAMSMencoders/bird/text_encoder599.pth\n",
            "/content/AttnGAN/code/trainer.py:373: UserWarning: volatile was removed and now has no effect. Use `with torch.no_grad():` instead.\n",
            "  noise = Variable(torch.FloatTensor(batch_size, nz), volatile=True)\n",
            "LINE==380\n",
            "-----------------netG------------------------\n",
            "G_NET(\n",
            "  (ca_net): CA_NET(\n",
            "    (fc): Linear(in_features=256, out_features=400, bias=True)\n",
            "    (relu): GLU()\n",
            "  )\n",
            "  (h_net1): INIT_STAGE_G(\n",
            "    (fc): Sequential(\n",
            "      (0): Linear(in_features=200, out_features=16384, bias=False)\n",
            "      (1): BatchNorm1d(16384, eps=1e-05, momentum=0.1, affine=True, track_running_stats=True)\n",
            "      (2): GLU()\n",
            "    )\n",
            "    (upsample1): Sequential(\n",
            "      (0): Upsample(scale_factor=2.0, mode=nearest)\n",
            "      (1): Conv2d(512, 512, kernel_size=(3, 3), stride=(1, 1), padding=(1, 1), bias=False)\n",
            "      (2): BatchNorm2d(512, eps=1e-05, momentum=0.1, affine=True, track_running_stats=True)\n",
            "      (3): GLU()\n",
            "    )\n",
            "    (upsample2): Sequential(\n",
            "      (0): Upsample(scale_factor=2.0, mode=nearest)\n",
            "      (1): Conv2d(256, 256, kernel_size=(3, 3), stride=(1, 1), padding=(1, 1), bias=False)\n",
            "      (2): BatchNorm2d(256, eps=1e-05, momentum=0.1, affine=True, track_running_stats=True)\n",
            "      (3): GLU()\n",
            "    )\n",
            "    (upsample3): Sequential(\n",
            "      (0): Upsample(scale_factor=2.0, mode=nearest)\n",
            "      (1): Conv2d(128, 128, kernel_size=(3, 3), stride=(1, 1), padding=(1, 1), bias=False)\n",
            "      (2): BatchNorm2d(128, eps=1e-05, momentum=0.1, affine=True, track_running_stats=True)\n",
            "      (3): GLU()\n",
            "    )\n",
            "    (upsample4): Sequential(\n",
            "      (0): Upsample(scale_factor=2.0, mode=nearest)\n",
            "      (1): Conv2d(64, 64, kernel_size=(3, 3), stride=(1, 1), padding=(1, 1), bias=False)\n",
            "      (2): BatchNorm2d(64, eps=1e-05, momentum=0.1, affine=True, track_running_stats=True)\n",
            "      (3): GLU()\n",
            "    )\n",
            "  )\n",
            "  (img_net1): GET_IMAGE_G(\n",
            "    (img): Sequential(\n",
            "      (0): Conv2d(32, 3, kernel_size=(3, 3), stride=(1, 1), padding=(1, 1), bias=False)\n",
            "      (1): Tanh()\n",
            "    )\n",
            "  )\n",
            "  (h_net2): NEXT_STAGE_G(\n",
            "    (att): GlobalAttentionGeneral(\n",
            "      (conv_context): Conv2d(256, 32, kernel_size=(1, 1), stride=(1, 1), bias=False)\n",
            "      (sm): Softmax(dim=None)\n",
            "    )\n",
            "    (residual): Sequential(\n",
            "      (0): ResBlock(\n",
            "        (block): Sequential(\n",
            "          (0): Conv2d(64, 128, kernel_size=(3, 3), stride=(1, 1), padding=(1, 1), bias=False)\n",
            "          (1): BatchNorm2d(128, eps=1e-05, momentum=0.1, affine=True, track_running_stats=True)\n",
            "          (2): GLU()\n",
            "          (3): Conv2d(64, 64, kernel_size=(3, 3), stride=(1, 1), padding=(1, 1), bias=False)\n",
            "          (4): BatchNorm2d(64, eps=1e-05, momentum=0.1, affine=True, track_running_stats=True)\n",
            "        )\n",
            "      )\n",
            "      (1): ResBlock(\n",
            "        (block): Sequential(\n",
            "          (0): Conv2d(64, 128, kernel_size=(3, 3), stride=(1, 1), padding=(1, 1), bias=False)\n",
            "          (1): BatchNorm2d(128, eps=1e-05, momentum=0.1, affine=True, track_running_stats=True)\n",
            "          (2): GLU()\n",
            "          (3): Conv2d(64, 64, kernel_size=(3, 3), stride=(1, 1), padding=(1, 1), bias=False)\n",
            "          (4): BatchNorm2d(64, eps=1e-05, momentum=0.1, affine=True, track_running_stats=True)\n",
            "        )\n",
            "      )\n",
            "    )\n",
            "    (upsample): Sequential(\n",
            "      (0): Upsample(scale_factor=2.0, mode=nearest)\n",
            "      (1): Conv2d(64, 64, kernel_size=(3, 3), stride=(1, 1), padding=(1, 1), bias=False)\n",
            "      (2): BatchNorm2d(64, eps=1e-05, momentum=0.1, affine=True, track_running_stats=True)\n",
            "      (3): GLU()\n",
            "    )\n",
            "  )\n",
            "  (img_net2): GET_IMAGE_G(\n",
            "    (img): Sequential(\n",
            "      (0): Conv2d(32, 3, kernel_size=(3, 3), stride=(1, 1), padding=(1, 1), bias=False)\n",
            "      (1): Tanh()\n",
            "    )\n",
            "  )\n",
            "  (h_net3): NEXT_STAGE_G(\n",
            "    (att): GlobalAttentionGeneral(\n",
            "      (conv_context): Conv2d(256, 32, kernel_size=(1, 1), stride=(1, 1), bias=False)\n",
            "      (sm): Softmax(dim=None)\n",
            "    )\n",
            "    (residual): Sequential(\n",
            "      (0): ResBlock(\n",
            "        (block): Sequential(\n",
            "          (0): Conv2d(64, 128, kernel_size=(3, 3), stride=(1, 1), padding=(1, 1), bias=False)\n",
            "          (1): BatchNorm2d(128, eps=1e-05, momentum=0.1, affine=True, track_running_stats=True)\n",
            "          (2): GLU()\n",
            "          (3): Conv2d(64, 64, kernel_size=(3, 3), stride=(1, 1), padding=(1, 1), bias=False)\n",
            "          (4): BatchNorm2d(64, eps=1e-05, momentum=0.1, affine=True, track_running_stats=True)\n",
            "        )\n",
            "      )\n",
            "      (1): ResBlock(\n",
            "        (block): Sequential(\n",
            "          (0): Conv2d(64, 128, kernel_size=(3, 3), stride=(1, 1), padding=(1, 1), bias=False)\n",
            "          (1): BatchNorm2d(128, eps=1e-05, momentum=0.1, affine=True, track_running_stats=True)\n",
            "          (2): GLU()\n",
            "          (3): Conv2d(64, 64, kernel_size=(3, 3), stride=(1, 1), padding=(1, 1), bias=False)\n",
            "          (4): BatchNorm2d(64, eps=1e-05, momentum=0.1, affine=True, track_running_stats=True)\n",
            "        )\n",
            "      )\n",
            "    )\n",
            "    (upsample): Sequential(\n",
            "      (0): Upsample(scale_factor=2.0, mode=nearest)\n",
            "      (1): Conv2d(64, 64, kernel_size=(3, 3), stride=(1, 1), padding=(1, 1), bias=False)\n",
            "      (2): BatchNorm2d(64, eps=1e-05, momentum=0.1, affine=True, track_running_stats=True)\n",
            "      (3): GLU()\n",
            "    )\n",
            "  )\n",
            "  (img_net3): GET_IMAGE_G(\n",
            "    (img): Sequential(\n",
            "      (0): Conv2d(32, 3, kernel_size=(3, 3), stride=(1, 1), padding=(1, 1), bias=False)\n",
            "      (1): Tanh()\n",
            "    )\n",
            "  )\n",
            ")\n",
            "--------------state-dict---------------------\n",
            "Load G from:  ../models/netG_epoch_600.pth\n",
            "!!!!!!!!!!!!!!!!!!!!!!!!!!!!!!!!!!!!!!!!!!!!!!!!!!!!!!!!!!!!!!!!!!!!!!!!\n",
            "save_dir: ../models/netG_epoch_600/valid\n",
            "step:  0\n",
            "/usr/local/lib/python3.6/dist-packages/torch/nn/functional.py:1625: UserWarning: nn.functional.sigmoid is deprecated. Use torch.sigmoid instead.\n",
            "  warnings.warn(\"nn.functional.sigmoid is deprecated. Use torch.sigmoid instead.\")\n",
            "/content/AttnGAN/code/GlobalAttention.py:109: UserWarning: Implicit dimension choice for softmax has been deprecated. Change the call to include dim=X as an argument.\n",
            "  attn = self.sm(attn)  # Eq. (2)\n",
            "Make a new folder:  ../models/netG_epoch_600/valid/single/079.Belted_Kingfisher\n",
            "Make a new folder:  ../models/netG_epoch_600/valid/single/051.Horned_Grebe\n",
            "Make a new folder:  ../models/netG_epoch_600/valid/single/008.Rhinoceros_Auklet\n",
            "Make a new folder:  ../models/netG_epoch_600/valid/single/053.Western_Grebe\n",
            "Make a new folder:  ../models/netG_epoch_600/valid/single/035.Purple_Finch\n",
            "Make a new folder:  ../models/netG_epoch_600/valid/single/112.Great_Grey_Shrike\n",
            "Make a new folder:  ../models/netG_epoch_600/valid/single/165.Chestnut_sided_Warbler\n",
            "Make a new folder:  ../models/netG_epoch_600/valid/single/095.Baltimore_Oriole\n",
            "Make a new folder:  ../models/netG_epoch_600/valid/single/098.Scott_Oriole\n",
            "Make a new folder:  ../models/netG_epoch_600/valid/single/130.Tree_Sparrow\n",
            "Make a new folder:  ../models/netG_epoch_600/valid/single/114.Black_throated_Sparrow\n",
            "Make a new folder:  ../models/netG_epoch_600/valid/single/014.Indigo_Bunting\n",
            "Make a new folder:  ../models/netG_epoch_600/valid/single/101.White_Pelican\n",
            "Make a new folder:  ../models/netG_epoch_600/valid/single/163.Cape_May_Warbler\n",
            "Make a new folder:  ../models/netG_epoch_600/valid/single/156.White_eyed_Vireo\n",
            "Make a new folder:  ../models/netG_epoch_600/valid/single/119.Field_Sparrow\n",
            "Make a new folder:  ../models/netG_epoch_600/valid/single/066.Western_Gull\n",
            "Make a new folder:  ../models/netG_epoch_600/valid/single/001.Black_footed_Albatross\n",
            "Make a new folder:  ../models/netG_epoch_600/valid/single/036.Northern_Flicker\n",
            "Make a new folder:  ../models/netG_epoch_600/valid/single/135.Bank_Swallow\n",
            "Make a new folder:  ../models/netG_epoch_600/valid/single/197.Marsh_Wren\n",
            "Make a new folder:  ../models/netG_epoch_600/valid/single/004.Groove_billed_Ani\n",
            "Make a new folder:  ../models/netG_epoch_600/valid/single/102.Western_Wood_Pewee\n",
            "Make a new folder:  ../models/netG_epoch_600/valid/single/034.Gray_crowned_Rosy_Finch\n",
            "Traceback (most recent call last):\n",
            "  File \"main.py\", line 144, in <module>\n",
            "    algo.sampling(split_dir)  # generate images for the whole valid dataset\n",
            "  File \"/content/AttnGAN/code/trainer.py\", line 421, in sampling\n",
            "    fake_imgs, _, _, _ = netG(noise, sent_emb, words_embs, mask)\n",
            "  File \"/usr/local/lib/python3.6/dist-packages/torch/nn/modules/module.py\", line 722, in _call_impl\n",
            "    result = self.forward(*input, **kwargs)\n",
            "  File \"/content/AttnGAN/code/model.py\", line 441, in forward\n",
            "    self.h_net3(h_code2, c_code, word_embs, mask)\n",
            "  File \"/usr/local/lib/python3.6/dist-packages/torch/nn/modules/module.py\", line 722, in _call_impl\n",
            "    result = self.forward(*input, **kwargs)\n",
            "  File \"/content/AttnGAN/code/model.py\", line 378, in forward\n",
            "    out_code = self.upsample(out_code)\n",
            "  File \"/usr/local/lib/python3.6/dist-packages/torch/nn/modules/module.py\", line 722, in _call_impl\n",
            "    result = self.forward(*input, **kwargs)\n",
            "  File \"/usr/local/lib/python3.6/dist-packages/torch/nn/modules/container.py\", line 117, in forward\n",
            "    input = module(input)\n",
            "  File \"/usr/local/lib/python3.6/dist-packages/torch/nn/modules/module.py\", line 722, in _call_impl\n",
            "    result = self.forward(*input, **kwargs)\n",
            "  File \"/usr/local/lib/python3.6/dist-packages/torch/nn/modules/batchnorm.py\", line 136, in forward\n",
            "    self.weight, self.bias, bn_training, exponential_average_factor, self.eps)\n",
            "  File \"/usr/local/lib/python3.6/dist-packages/torch/nn/functional.py\", line 2016, in batch_norm\n",
            "    training, momentum, eps, torch.backends.cudnn.enabled\n",
            "RuntimeError: CUDA out of memory. Tried to allocate 512.00 MiB (GPU 0; 11.17 GiB total capacity; 10.27 GiB already allocated; 115.81 MiB free; 10.70 GiB reserved in total by PyTorch)\n"
          ],
          "name": "stdout"
        }
      ]
    },
    {
      "cell_type": "markdown",
      "metadata": {
        "id": "aPs_qjtGwTuU",
        "colab_type": "text"
      },
      "source": [
        "### Zip /content/AttnGAN/models/netG_epoch_600"
      ]
    },
    {
      "cell_type": "code",
      "metadata": {
        "id": "om7wrmbLb7Rh",
        "colab_type": "code",
        "colab": {}
      },
      "source": [
        "os.chdir('/content/AttnGAN/models')\n",
        "!zip -r B_val_true.zip netG_epoch_600"
      ],
      "execution_count": null,
      "outputs": []
    },
    {
      "cell_type": "code",
      "metadata": {
        "id": "u3K2hYHG6BJF",
        "colab_type": "code",
        "colab": {}
      },
      "source": [
        "!cp '/content/AttnGAN/models/B_val_true.zip' '/content/drive/My Drive/B_val_true/'"
      ],
      "execution_count": null,
      "outputs": []
    },
    {
      "cell_type": "code",
      "metadata": {
        "id": "DQfw6Wr_6LzM",
        "colab_type": "code",
        "colab": {}
      },
      "source": [
        "!cp -r '/content/AttnGAN/models/netG_epoch_600/' '/content/drive/My Drive/B_val_true/'"
      ],
      "execution_count": null,
      "outputs": []
    },
    {
      "cell_type": "code",
      "metadata": {
        "id": "Fa7msPYSB1L8",
        "colab_type": "code",
        "colab": {}
      },
      "source": [
        "!cp -r '/content/AttnGAN/models/netG_epoch_600/valid/single/' '/content/'"
      ],
      "execution_count": null,
      "outputs": []
    },
    {
      "cell_type": "markdown",
      "metadata": {
        "id": "17K4754i7U0e",
        "colab_type": "text"
      },
      "source": [
        "# Validiate"
      ]
    },
    {
      "cell_type": "code",
      "metadata": {
        "id": "asxeaLP97AbP",
        "colab_type": "code",
        "colab": {}
      },
      "source": [
        "import os\n",
        "os.chdir('/content')"
      ],
      "execution_count": null,
      "outputs": []
    },
    {
      "cell_type": "code",
      "metadata": {
        "id": "fVSxq-I97lqh",
        "colab_type": "code",
        "colab": {}
      },
      "source": [
        "os.chdir('/content')\n",
        "!git clone https://github.com/hanzhanggit/StackGAN-inception-model.git"
      ],
      "execution_count": null,
      "outputs": []
    },
    {
      "cell_type": "code",
      "metadata": {
        "id": "5brgrOz09n7_",
        "colab_type": "code",
        "colab": {}
      },
      "source": [
        "os.chdir('/content/StackGAN-inception-model/')\n",
        "!wget --load-cookies /tmp/cookies.txt \"https://docs.google.com/uc?export=download&confirm=$(wget --quiet --save-cookies /tmp/cookies.txt --keep-session-cookies --no-check-certificate 'https://docs.google.com/uc?export=download&id=0B3y_msrWZaXLMzNMNWhWdW0zVWs' -O- | sed -rn 's/.*confirm=([0-9A-Za-z_]+).*/\\1\\n/p')&id=0B3y_msrWZaXLMzNMNWhWdW0zVWs\" -O inception_finetuned_models.zip && rm -rf /tmp/cookies.txt\n",
        "!unzip -q inception_finetuned_models.zip\n",
        "!rm inception_finetuned_models.zip\n",
        "!rm README.md\n",
        "!rm -r __MACOSX/"
      ],
      "execution_count": null,
      "outputs": []
    },
    {
      "cell_type": "code",
      "metadata": {
        "id": "aMV2BWfXCnzk",
        "colab_type": "code",
        "colab": {}
      },
      "source": [
        "!pip install scipy==1.1.0"
      ],
      "execution_count": null,
      "outputs": []
    },
    {
      "cell_type": "markdown",
      "metadata": {
        "id": "Xi8pXmQiAZAW",
        "colab_type": "text"
      },
      "source": [
        "==================================================================================================================="
      ]
    },
    {
      "cell_type": "code",
      "metadata": {
        "id": "TLuWxh9-AXAn",
        "colab_type": "code",
        "colab": {}
      },
      "source": [
        "os.chdir('/content')\n",
        "!rm -r Validate-CUB\n",
        "!git clone https://github.com/ammarnasr/Validate-CUB.git"
      ],
      "execution_count": null,
      "outputs": []
    },
    {
      "cell_type": "code",
      "metadata": {
        "id": "MjbwWJ_KAljQ",
        "colab_type": "code",
        "colab": {}
      },
      "source": [
        "!mv /content/Validate-CUB/code/inception_score.py /content/StackGAN-inception-model/"
      ],
      "execution_count": null,
      "outputs": []
    },
    {
      "cell_type": "code",
      "metadata": {
        "id": "EvcpNzGb8sof",
        "colab_type": "code",
        "colab": {}
      },
      "source": [
        "os.chdir('/content/StackGAN-inception-model/')\n",
        "%tensorflow_version 1.x\n",
        "!python inception_score.py --image_folder '/content/single/'"
      ],
      "execution_count": null,
      "outputs": []
    }
  ]
}