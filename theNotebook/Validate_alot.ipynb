{
  "nbformat": 4,
  "nbformat_minor": 0,
  "metadata": {
    "colab": {
      "name": "Validate_alot.ipynb",
      "provenance": [],
      "collapsed_sections": [],
      "toc_visible": true
    },
    "kernelspec": {
      "name": "python3",
      "display_name": "Python 3"
    },
    "accelerator": "GPU"
  },
  "cells": [
    {
      "cell_type": "code",
      "metadata": {
        "id": "EnQU7wEOxIfE",
        "colab_type": "code",
        "colab": {
          "base_uri": "https://localhost:8080/",
          "height": 372
        },
        "outputId": "0662e0b9-e62b-4285-caa9-eb1ad4283916"
      },
      "source": [
        "!nvidia-smi #Fri Jun 19 18:08:52 2020   "
      ],
      "execution_count": 1,
      "outputs": [
        {
          "output_type": "stream",
          "text": [
            "Mon Aug 10 12:30:04 2020       \n",
            "+-----------------------------------------------------------------------------+\n",
            "| NVIDIA-SMI 450.57       Driver Version: 418.67       CUDA Version: 10.1     |\n",
            "|-------------------------------+----------------------+----------------------+\n",
            "| GPU  Name        Persistence-M| Bus-Id        Disp.A | Volatile Uncorr. ECC |\n",
            "| Fan  Temp  Perf  Pwr:Usage/Cap|         Memory-Usage | GPU-Util  Compute M. |\n",
            "|                               |                      |               MIG M. |\n",
            "|===============================+======================+======================|\n",
            "|   0  Tesla T4            Off  | 00000000:00:04.0 Off |                    0 |\n",
            "| N/A   50C    P8    10W /  70W |      0MiB / 15079MiB |      0%      Default |\n",
            "|                               |                      |                 ERR! |\n",
            "+-------------------------------+----------------------+----------------------+\n",
            "                                                                               \n",
            "+-----------------------------------------------------------------------------+\n",
            "| Processes:                                                                  |\n",
            "|  GPU   GI   CI        PID   Type   Process name                  GPU Memory |\n",
            "|        ID   ID                                                   Usage      |\n",
            "|=============================================================================|\n",
            "|  No running processes found                                                 |\n",
            "+-----------------------------------------------------------------------------+\n"
          ],
          "name": "stdout"
        }
      ]
    },
    {
      "cell_type": "code",
      "metadata": {
        "id": "zA9csLagcI02",
        "colab_type": "code",
        "colab": {}
      },
      "source": [
        "import os"
      ],
      "execution_count": 3,
      "outputs": []
    },
    {
      "cell_type": "code",
      "metadata": {
        "id": "nk0qX3SfXGEm",
        "colab_type": "code",
        "colab": {}
      },
      "source": [
        "os.chdir('/content')\n",
        "!rm -r AttnGAN\n",
        "!git clone https://github.com/taoxugit/AttnGAN.git"
      ],
      "execution_count": null,
      "outputs": []
    },
    {
      "cell_type": "code",
      "metadata": {
        "id": "DBM_tUR4fbtm",
        "colab_type": "code",
        "colab": {}
      },
      "source": [
        "os.chdir('/content/AttnGAN/data/')\n",
        "!wget --no-check-certificate 'https://docs.google.com/uc?export=download&id=1O_LtUP9sch09QH3s_EBAgLEctBQ5JBSJ' -O birds.zip\n",
        "!unzip -q birds.zip\n",
        "!rm birds.zip\n",
        "!rm -r __MACOSX/"
      ],
      "execution_count": null,
      "outputs": []
    },
    {
      "cell_type": "code",
      "metadata": {
        "id": "9oOwplfXf6aK",
        "colab_type": "code",
        "colab": {}
      },
      "source": [
        "os.chdir('/content/AttnGAN/data/birds')\n",
        "!unzip -q text.zip\n",
        "!rm text.zip"
      ],
      "execution_count": 7,
      "outputs": []
    },
    {
      "cell_type": "code",
      "metadata": {
        "id": "T5ueMbDcgYo2",
        "colab_type": "code",
        "colab": {}
      },
      "source": [
        "#Changing Working dirctory to birds\n",
        "os.chdir('/content/AttnGAN/data/birds/')\n",
        "!cp '/content/drive/My Drive/cub/CUB_200_2011.tgz' '/content/AttnGAN/data/birds/'\n",
        "!tar zxf  CUB_200_2011.tgz\n",
        "!rm CUB_200_2011.tgz"
      ],
      "execution_count": 8,
      "outputs": []
    },
    {
      "cell_type": "code",
      "metadata": {
        "id": "XaEngHiXsOr3",
        "colab_type": "code",
        "colab": {}
      },
      "source": [
        "os.chdir('/content/AttnGAN/code/')\n",
        "!wget --no-check-certificate 'https://docs.google.com/uc?export=download&id=1Wr3lQajG7m6Bi3rYFTJb6mwE_d8su111' -O Pillow.rar\n",
        "!unrar x  Pillow.rar\n",
        "!rm Pillow.rar"
      ],
      "execution_count": null,
      "outputs": []
    },
    {
      "cell_type": "code",
      "metadata": {
        "id": "kMT2FQDhlEWy",
        "colab_type": "code",
        "colab": {}
      },
      "source": [
        "os.chdir('/content/AttnGAN/DAMSMencoders/')\n",
        "os.mkdir('bird')"
      ],
      "execution_count": 10,
      "outputs": []
    },
    {
      "cell_type": "code",
      "metadata": {
        "id": "8_-RVVeUkKvD",
        "colab_type": "code",
        "colab": {}
      },
      "source": [
        "os.chdir('/content')\n",
        "#Dwonload files config.py, utils.py, datasets.py, pretrain_DAMSM.py\n",
        "!git clone https://github.com/ammarnasr/CUB-Attn-GAN.git\n",
        "\n",
        "# #Move Models text and image encoder to their /content/\n",
        "!mv /content/CUB-Attn-GAN/theModel/text_encoder599.pth /content/\n",
        "!mv /content/CUB-Attn-GAN/theModel/image_encoder599.pth /content/\n",
        "# !mv /content/CUB-Attn-GAN/theCode/GAN/netG_epoch_600.pth /content/\n",
        "\n",
        "#Remove the Repo\n",
        "!rm -r /content/CUB-Attn-GAN/\n",
        "\n",
        "#Move Models text and image encoder to their /content/\n",
        "!mv /content/text_encoder599.pth /content/AttnGAN/DAMSMencoders/bird/\n",
        "!mv /content/image_encoder599.pth /content/AttnGAN/DAMSMencoders/bird/\n",
        "# !mv /content/netG_epoch_600.pth /content/AttnGAN/models/"
      ],
      "execution_count": null,
      "outputs": []
    },
    {
      "cell_type": "code",
      "metadata": {
        "id": "qJS7JgXTX_v0",
        "colab_type": "code",
        "colab": {}
      },
      "source": [
        "!cp -a '/content/drive/My Drive/cubModelGAN/.' '/content/AttnGAN/models/'"
      ],
      "execution_count": 15,
      "outputs": []
    },
    {
      "cell_type": "markdown",
      "metadata": {
        "id": "1NhlvNfvcihB",
        "colab_type": "text"
      },
      "source": [
        "==================================================================================================================="
      ]
    },
    {
      "cell_type": "code",
      "metadata": {
        "id": "bL5P9M-ecd1m",
        "colab_type": "code",
        "colab": {}
      },
      "source": [
        "os.chdir('/content')\n",
        "!rm -r Validate_a_lot\n",
        "!git clone https://github.com/ammarnasr/Validate_a_lot.git"
      ],
      "execution_count": null,
      "outputs": []
    },
    {
      "cell_type": "code",
      "metadata": {
        "id": "AM32T-eydhVp",
        "colab_type": "code",
        "colab": {}
      },
      "source": [
        "!mv /content/Validate_a_lot/code/utils.py /content/AttnGAN/code/miscc/\n",
        "!mv /content/Validate_a_lot/code/config.py /content/AttnGAN/code/miscc/\n",
        "!mv /content/Validate_a_lot/code/datasets.py /content/AttnGAN/code/\n",
        "!mv /content/Validate_a_lot/code/main.py /content/AttnGAN/code/\n",
        "!mv /content/Validate_a_lot/code/trainer.py /content/AttnGAN/code/\n",
        "!mv /content/Validate_a_lot/code/eval_bird.yml /content/AttnGAN/code/cfg/"
      ],
      "execution_count": null,
      "outputs": []
    },
    {
      "cell_type": "code",
      "metadata": {
        "id": "Hyy9vb-Ebkac",
        "colab_type": "code",
        "colab": {}
      },
      "source": [
        "os.chdir('/content/AttnGAN/code')\n",
        "\n",
        "!python main.py --cfg cfg/eval_bird.yml --gpu 0"
      ],
      "execution_count": null,
      "outputs": []
    },
    {
      "cell_type": "markdown",
      "metadata": {
        "id": "aPs_qjtGwTuU",
        "colab_type": "text"
      },
      "source": [
        "### Zip /content/AttnGAN/models/netG_epoch_600"
      ]
    },
    {
      "cell_type": "code",
      "metadata": {
        "id": "vQNXDCK-ZsWQ",
        "colab_type": "code",
        "colab": {}
      },
      "source": [
        "os.chdir('/content/AttnGAN/models')\n",
        "!zip -r netG_epoch_50.zip netG_epoch_50\n",
        "!zip -r netG_epoch_60.zip netG_epoch_60\n",
        "!zip -r netG_epoch_70.zip netG_epoch_70\n",
        "!zip -r netG_epoch_80.zip netG_epoch_80\n",
        "!zip -r netG_epoch_90.zip netG_epoch_90\n",
        "!zip -r netG_epoch_100.zip netG_epoch_100\n",
        "!zip -r netG_epoch_110.zip netG_epoch_110\n",
        "!zip -r netG_epoch_120.zip netG_epoch_120\n",
        "!zip -r netG_epoch_130.zip netG_epoch_130\n",
        "!zip -r netG_epoch_140.zip netG_epoch_140\n",
        "!zip -r netG_epoch_150.zip netG_epoch_150\n",
        "!zip -r netG_epoch_160.zip netG_epoch_160"
      ],
      "execution_count": null,
      "outputs": []
    },
    {
      "cell_type": "code",
      "metadata": {
        "id": "om7wrmbLb7Rh",
        "colab_type": "code",
        "colab": {}
      },
      "source": [
        "os.chdir('/content/AttnGAN/models')\n",
        "!zip -r B_val_true.zip netG_epoch_600"
      ],
      "execution_count": null,
      "outputs": []
    },
    {
      "cell_type": "code",
      "metadata": {
        "id": "u3K2hYHG6BJF",
        "colab_type": "code",
        "colab": {}
      },
      "source": [
        "!cp '/content/AttnGAN/models/B_val_true.zip' '/content/drive/My Drive/B_val_true/'"
      ],
      "execution_count": null,
      "outputs": []
    },
    {
      "cell_type": "code",
      "metadata": {
        "id": "DQfw6Wr_6LzM",
        "colab_type": "code",
        "colab": {}
      },
      "source": [
        "!cp -r '/content/AttnGAN/models/' '/content/drive/My Drive/Modified_Validation/'"
      ],
      "execution_count": null,
      "outputs": []
    },
    {
      "cell_type": "code",
      "metadata": {
        "id": "Fa7msPYSB1L8",
        "colab_type": "code",
        "colab": {}
      },
      "source": [
        "!cp -r '/content/AttnGAN/models/netG_epoch_600/valid/single/' '/content/'"
      ],
      "execution_count": null,
      "outputs": []
    },
    {
      "cell_type": "markdown",
      "metadata": {
        "id": "17K4754i7U0e",
        "colab_type": "text"
      },
      "source": [
        "# Validiate"
      ]
    },
    {
      "cell_type": "code",
      "metadata": {
        "id": "asxeaLP97AbP",
        "colab_type": "code",
        "colab": {}
      },
      "source": [
        "import os\n",
        "os.chdir('/content')"
      ],
      "execution_count": null,
      "outputs": []
    },
    {
      "cell_type": "code",
      "metadata": {
        "id": "fVSxq-I97lqh",
        "colab_type": "code",
        "colab": {}
      },
      "source": [
        "os.chdir('/content')\n",
        "!git clone https://github.com/hanzhanggit/StackGAN-inception-model.git"
      ],
      "execution_count": null,
      "outputs": []
    },
    {
      "cell_type": "code",
      "metadata": {
        "id": "5brgrOz09n7_",
        "colab_type": "code",
        "colab": {}
      },
      "source": [
        "os.chdir('/content/StackGAN-inception-model/')\n",
        "!wget --load-cookies /tmp/cookies.txt \"https://docs.google.com/uc?export=download&confirm=$(wget --quiet --save-cookies /tmp/cookies.txt --keep-session-cookies --no-check-certificate 'https://docs.google.com/uc?export=download&id=0B3y_msrWZaXLMzNMNWhWdW0zVWs' -O- | sed -rn 's/.*confirm=([0-9A-Za-z_]+).*/\\1\\n/p')&id=0B3y_msrWZaXLMzNMNWhWdW0zVWs\" -O inception_finetuned_models.zip && rm -rf /tmp/cookies.txt\n",
        "!unzip -q inception_finetuned_models.zip\n",
        "!rm inception_finetuned_models.zip\n",
        "!rm README.md\n",
        "!rm -r __MACOSX/"
      ],
      "execution_count": null,
      "outputs": []
    },
    {
      "cell_type": "code",
      "metadata": {
        "id": "aMV2BWfXCnzk",
        "colab_type": "code",
        "colab": {}
      },
      "source": [
        "!pip install scipy==1.1.0"
      ],
      "execution_count": null,
      "outputs": []
    },
    {
      "cell_type": "markdown",
      "metadata": {
        "id": "Xi8pXmQiAZAW",
        "colab_type": "text"
      },
      "source": [
        "==================================================================================================================="
      ]
    },
    {
      "cell_type": "code",
      "metadata": {
        "id": "TLuWxh9-AXAn",
        "colab_type": "code",
        "colab": {
          "base_uri": "https://localhost:8080/",
          "height": 121
        },
        "outputId": "1fe98db1-e50a-46ca-cf51-78386d53be27"
      },
      "source": [
        "os.chdir('/content')\n",
        "!rm -r Validate_a_lot\n",
        "!git clone https://github.com/ammarnasr/Validate_a_lot.git"
      ],
      "execution_count": null,
      "outputs": [
        {
          "output_type": "stream",
          "text": [
            "Cloning into 'Validate_a_lot'...\n",
            "remote: Enumerating objects: 27, done.\u001b[K\n",
            "remote: Counting objects:   3% (1/27)\u001b[K\rremote: Counting objects:   7% (2/27)\u001b[K\rremote: Counting objects:  11% (3/27)\u001b[K\rremote: Counting objects:  14% (4/27)\u001b[K\rremote: Counting objects:  18% (5/27)\u001b[K\rremote: Counting objects:  22% (6/27)\u001b[K\rremote: Counting objects:  25% (7/27)\u001b[K\rremote: Counting objects:  29% (8/27)\u001b[K\rremote: Counting objects:  33% (9/27)\u001b[K\rremote: Counting objects:  37% (10/27)\u001b[K\rremote: Counting objects:  40% (11/27)\u001b[K\rremote: Counting objects:  44% (12/27)\u001b[K\rremote: Counting objects:  48% (13/27)\u001b[K\rremote: Counting objects:  51% (14/27)\u001b[K\rremote: Counting objects:  55% (15/27)\u001b[K\rremote: Counting objects:  59% (16/27)\u001b[K\rremote: Counting objects:  62% (17/27)\u001b[K\rremote: Counting objects:  66% (18/27)\u001b[K\rremote: Counting objects:  70% (19/27)\u001b[K\rremote: Counting objects:  74% (20/27)\u001b[K\rremote: Counting objects:  77% (21/27)\u001b[K\rremote: Counting objects:  81% (22/27)\u001b[K\rremote: Counting objects:  85% (23/27)\u001b[K\rremote: Counting objects:  88% (24/27)\u001b[K\rremote: Counting objects:  92% (25/27)\u001b[K\rremote: Counting objects:  96% (26/27)\u001b[K\rremote: Counting objects: 100% (27/27)\u001b[K\rremote: Counting objects: 100% (27/27), done.\u001b[K\n",
            "remote: Compressing objects:   5% (1/19)\u001b[K\rremote: Compressing objects:  10% (2/19)\u001b[K\rremote: Compressing objects:  15% (3/19)\u001b[K\rremote: Compressing objects:  21% (4/19)\u001b[K\rremote: Compressing objects:  26% (5/19)\u001b[K\rremote: Compressing objects:  31% (6/19)\u001b[K\rremote: Compressing objects:  36% (7/19)\u001b[K\rremote: Compressing objects:  42% (8/19)\u001b[K\rremote: Compressing objects:  47% (9/19)\u001b[K\rremote: Compressing objects:  52% (10/19)\u001b[K\rremote: Compressing objects:  57% (11/19)\u001b[K\rremote: Compressing objects:  63% (12/19)\u001b[K\rremote: Compressing objects:  68% (13/19)\u001b[K\rremote: Compressing objects:  73% (14/19)\u001b[K\rremote: Compressing objects:  78% (15/19)\u001b[K\rremote: Compressing objects:  84% (16/19)\u001b[K\rremote: Compressing objects:  89% (17/19)\u001b[K\rremote: Compressing objects:  94% (18/19)\u001b[K\rremote: Compressing objects: 100% (19/19)\u001b[K\rremote: Compressing objects: 100% (19/19), done.\u001b[K\n",
            "remote: Total 27 (delta 6), reused 22 (delta 4), pack-reused 0\u001b[K\n",
            "Unpacking objects:   3% (1/27)   \rUnpacking objects:   7% (2/27)   \rUnpacking objects:  11% (3/27)   \rUnpacking objects:  14% (4/27)   \rUnpacking objects:  18% (5/27)   \rUnpacking objects:  22% (6/27)   \rUnpacking objects:  25% (7/27)   \rUnpacking objects:  29% (8/27)   \rUnpacking objects:  33% (9/27)   \rUnpacking objects:  37% (10/27)   \rUnpacking objects:  40% (11/27)   \rUnpacking objects:  44% (12/27)   \rUnpacking objects:  48% (13/27)   \rUnpacking objects:  51% (14/27)   \rUnpacking objects:  55% (15/27)   \rUnpacking objects:  59% (16/27)   \rUnpacking objects:  62% (17/27)   \rUnpacking objects:  66% (18/27)   \rUnpacking objects:  70% (19/27)   \rUnpacking objects:  74% (20/27)   \rUnpacking objects:  77% (21/27)   \rUnpacking objects:  81% (22/27)   \rUnpacking objects:  85% (23/27)   \rUnpacking objects:  88% (24/27)   \rUnpacking objects:  92% (25/27)   \rUnpacking objects:  96% (26/27)   \rUnpacking objects: 100% (27/27)   \rUnpacking objects: 100% (27/27), done.\n"
          ],
          "name": "stdout"
        }
      ]
    },
    {
      "cell_type": "code",
      "metadata": {
        "id": "MjbwWJ_KAljQ",
        "colab_type": "code",
        "colab": {}
      },
      "source": [
        "!mv /content/Validate_a_lot/code/inception_score.py /content/StackGAN-inception-model/"
      ],
      "execution_count": null,
      "outputs": []
    },
    {
      "cell_type": "code",
      "metadata": {
        "id": "8DgHIt7mhTRk",
        "colab_type": "code",
        "colab": {}
      },
      "source": [
        "os.chdir('/content/StackGAN-inception-model/')\n",
        "%tensorflow_version 1.x\n",
        "!python inception_score.py --image_folder '/content/AttnGAN/models/netG_epoch_60/valid/single/'"
      ],
      "execution_count": null,
      "outputs": []
    },
    {
      "cell_type": "code",
      "metadata": {
        "id": "Ea8-9Uy9iIq0",
        "colab_type": "code",
        "colab": {}
      },
      "source": [
        "os.chdir('/content/StackGAN-inception-model/')\n",
        "%tensorflow_version 1.x\n",
        "!python inception_score.py --image_folder '/content/AttnGAN/models/netG_epoch_70/valid/single/'"
      ],
      "execution_count": null,
      "outputs": []
    },
    {
      "cell_type": "code",
      "metadata": {
        "id": "zrh2F8LMiOcL",
        "colab_type": "code",
        "colab": {}
      },
      "source": [
        "os.chdir('/content/StackGAN-inception-model/')\n",
        "%tensorflow_version 1.x\n",
        "!python inception_score.py --image_folder '/content/AttnGAN/models/netG_epoch_80/valid/single/'"
      ],
      "execution_count": null,
      "outputs": []
    },
    {
      "cell_type": "code",
      "metadata": {
        "colab_type": "code",
        "id": "VYRLZ9rNiVgB",
        "colab": {}
      },
      "source": [
        "os.chdir('/content/StackGAN-inception-model/')\n",
        "%tensorflow_version 1.x\n",
        "!python inception_score.py --image_folder '/content/AttnGAN/models/netG_epoch_90/valid/single/'"
      ],
      "execution_count": null,
      "outputs": []
    },
    {
      "cell_type": "code",
      "metadata": {
        "colab_type": "code",
        "id": "p2gQPpdtiWGE",
        "colab": {}
      },
      "source": [
        "os.chdir('/content/StackGAN-inception-model/')\n",
        "%tensorflow_version 1.x\n",
        "!python inception_score.py --image_folder '/content/AttnGAN/models/netG_epoch_100/valid/single/'"
      ],
      "execution_count": null,
      "outputs": []
    },
    {
      "cell_type": "code",
      "metadata": {
        "colab_type": "code",
        "id": "2cCGIPlfiWWn",
        "colab": {}
      },
      "source": [
        "os.chdir('/content/StackGAN-inception-model/')\n",
        "%tensorflow_version 1.x\n",
        "!python inception_score.py --image_folder '/content/AttnGAN/models/netG_epoch_110/valid/single/'"
      ],
      "execution_count": null,
      "outputs": []
    },
    {
      "cell_type": "code",
      "metadata": {
        "colab_type": "code",
        "id": "DYnzBi1QiWyn",
        "colab": {}
      },
      "source": [
        "os.chdir('/content/StackGAN-inception-model/')\n",
        "%tensorflow_version 1.x\n",
        "!python inception_score.py --image_folder '/content/AttnGAN/models/netG_epoch_120/valid/single/'"
      ],
      "execution_count": null,
      "outputs": []
    },
    {
      "cell_type": "code",
      "metadata": {
        "colab_type": "code",
        "id": "JytHqTdIiXJM",
        "colab": {}
      },
      "source": [
        "os.chdir('/content/StackGAN-inception-model/')\n",
        "%tensorflow_version 1.x\n",
        "!python inception_score.py --image_folder '/content/AttnGAN/models/netG_epoch_130/valid/single/'"
      ],
      "execution_count": null,
      "outputs": []
    },
    {
      "cell_type": "code",
      "metadata": {
        "colab_type": "code",
        "id": "bxk-dP4TiXMr",
        "colab": {}
      },
      "source": [
        "os.chdir('/content/StackGAN-inception-model/')\n",
        "%tensorflow_version 1.x\n",
        "!python inception_score.py --image_folder '/content/AttnGAN/models/netG_epoch_140/valid/single/'"
      ],
      "execution_count": null,
      "outputs": []
    },
    {
      "cell_type": "code",
      "metadata": {
        "colab_type": "code",
        "id": "DT56FCiwiXYc",
        "colab": {}
      },
      "source": [
        "os.chdir('/content/StackGAN-inception-model/')\n",
        "%tensorflow_version 1.x\n",
        "!python inception_score.py --image_folder '/content/AttnGAN/models/netG_epoch_150/valid/single/'"
      ],
      "execution_count": null,
      "outputs": []
    },
    {
      "cell_type": "code",
      "metadata": {
        "colab_type": "code",
        "id": "-N_hW3aHiXbk",
        "colab": {}
      },
      "source": [
        "os.chdir('/content/StackGAN-inception-model/')\n",
        "%tensorflow_version 1.x\n",
        "!python inception_score.py --image_folder '/content/AttnGAN/models/netG_epoch_160/valid/single/'"
      ],
      "execution_count": null,
      "outputs": []
    },
    {
      "cell_type": "code",
      "metadata": {
        "id": "FxnYrIzWiOaA",
        "colab_type": "code",
        "colab": {}
      },
      "source": [
        ""
      ],
      "execution_count": null,
      "outputs": []
    },
    {
      "cell_type": "code",
      "metadata": {
        "id": "EvcpNzGb8sof",
        "colab_type": "code",
        "colab": {}
      },
      "source": [
        "os.chdir('/content/StackGAN-inception-model/')\n",
        "%tensorflow_version 1.x\n",
        "!python inception_score.py --image_folder '/content/single/'"
      ],
      "execution_count": null,
      "outputs": []
    },
    {
      "cell_type": "code",
      "metadata": {
        "id": "QBi1aOQ_hW5k",
        "colab_type": "code",
        "colab": {}
      },
      "source": [
        ""
      ],
      "execution_count": null,
      "outputs": []
    }
  ]
}