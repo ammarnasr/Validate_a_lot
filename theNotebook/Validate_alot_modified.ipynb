{
  "nbformat": 4,
  "nbformat_minor": 0,
  "metadata": {
    "colab": {
      "name": "Validate_alot_modified.ipynb",
      "provenance": [],
      "collapsed_sections": [],
      "toc_visible": true
    },
    "kernelspec": {
      "name": "python3",
      "display_name": "Python 3"
    },
    "accelerator": "GPU"
  },
  "cells": [
    {
      "cell_type": "code",
      "metadata": {
        "id": "EnQU7wEOxIfE",
        "colab_type": "code",
        "colab": {
          "base_uri": "https://localhost:8080/",
          "height": 350
        },
        "outputId": "9b964e73-aae3-473b-880c-d5a445583b78"
      },
      "source": [
        "!nvidia-smi #Fri Jun 19 18:08:52 2020   "
      ],
      "execution_count": 1,
      "outputs": [
        {
          "output_type": "stream",
          "text": [
            "Sun Aug  9 18:17:26 2020       \n",
            "+-----------------------------------------------------------------------------+\n",
            "| NVIDIA-SMI 450.57       Driver Version: 418.67       CUDA Version: 10.1     |\n",
            "|-------------------------------+----------------------+----------------------+\n",
            "| GPU  Name        Persistence-M| Bus-Id        Disp.A | Volatile Uncorr. ECC |\n",
            "| Fan  Temp  Perf  Pwr:Usage/Cap|         Memory-Usage | GPU-Util  Compute M. |\n",
            "|                               |                      |               MIG M. |\n",
            "|===============================+======================+======================|\n",
            "|   0  Tesla T4            Off  | 00000000:00:04.0 Off |                    0 |\n",
            "| N/A   49C    P8    10W /  70W |      0MiB / 15079MiB |      0%      Default |\n",
            "|                               |                      |                 ERR! |\n",
            "+-------------------------------+----------------------+----------------------+\n",
            "                                                                               \n",
            "+-----------------------------------------------------------------------------+\n",
            "| Processes:                                                                  |\n",
            "|  GPU   GI   CI        PID   Type   Process name                  GPU Memory |\n",
            "|        ID   ID                                                   Usage      |\n",
            "|=============================================================================|\n",
            "|  No running processes found                                                 |\n",
            "+-----------------------------------------------------------------------------+\n"
          ],
          "name": "stdout"
        }
      ]
    },
    {
      "cell_type": "code",
      "metadata": {
        "id": "zA9csLagcI02",
        "colab_type": "code",
        "colab": {}
      },
      "source": [
        "import os"
      ],
      "execution_count": 3,
      "outputs": []
    },
    {
      "cell_type": "code",
      "metadata": {
        "id": "PolBTuJBb_6H",
        "colab_type": "code",
        "colab": {
          "base_uri": "https://localhost:8080/",
          "height": 117
        },
        "outputId": "10aee8a4-8cf2-447b-ac98-0114ba125551"
      },
      "source": [
        "os.chdir('/content')\n",
        "!rm -r AttnGAN\n",
        "!git clone https://github.com/taoxugit/AttnGAN.git"
      ],
      "execution_count": 4,
      "outputs": [
        {
          "output_type": "stream",
          "text": [
            "rm: cannot remove 'AttnGAN': No such file or directory\n",
            "Cloning into 'AttnGAN'...\n",
            "remote: Enumerating objects: 291, done.\u001b[K\n",
            "remote: Total 291 (delta 0), reused 0 (delta 0), pack-reused 291\u001b[K\n",
            "Receiving objects: 100% (291/291), 36.76 MiB | 37.67 MiB/s, done.\n",
            "Resolving deltas: 100% (167/167), done.\n"
          ],
          "name": "stdout"
        }
      ]
    },
    {
      "cell_type": "code",
      "metadata": {
        "id": "DBM_tUR4fbtm",
        "colab_type": "code",
        "colab": {
          "base_uri": "https://localhost:8080/",
          "height": 320
        },
        "outputId": "c72cf529-3307-4ca6-daa1-3ce2010ad385"
      },
      "source": [
        "os.chdir('/content/AttnGAN/data/')\n",
        "!wget --no-check-certificate 'https://docs.google.com/uc?export=download&id=1O_LtUP9sch09QH3s_EBAgLEctBQ5JBSJ' -O birds.zip\n",
        "!unzip -q birds.zip\n",
        "!rm birds.zip\n",
        "!rm -r __MACOSX/"
      ],
      "execution_count": 5,
      "outputs": [
        {
          "output_type": "stream",
          "text": [
            "--2020-08-09 18:18:36--  https://docs.google.com/uc?export=download&id=1O_LtUP9sch09QH3s_EBAgLEctBQ5JBSJ\n",
            "Resolving docs.google.com (docs.google.com)... 74.125.199.138, 74.125.199.102, 74.125.199.100, ...\n",
            "Connecting to docs.google.com (docs.google.com)|74.125.199.138|:443... connected.\n",
            "HTTP request sent, awaiting response... 302 Moved Temporarily\n",
            "Location: https://doc-0o-9g-docs.googleusercontent.com/docs/securesc/ha0ro937gcuc7l7deffksulhg5h7mbp1/3pnp54uglr7g67fiq53af53lsda8k7fs/1596997125000/09657060183789739732/*/1O_LtUP9sch09QH3s_EBAgLEctBQ5JBSJ?e=download [following]\n",
            "Warning: wildcards not supported in HTTP.\n",
            "--2020-08-09 18:19:05--  https://doc-0o-9g-docs.googleusercontent.com/docs/securesc/ha0ro937gcuc7l7deffksulhg5h7mbp1/3pnp54uglr7g67fiq53af53lsda8k7fs/1596997125000/09657060183789739732/*/1O_LtUP9sch09QH3s_EBAgLEctBQ5JBSJ?e=download\n",
            "Resolving doc-0o-9g-docs.googleusercontent.com (doc-0o-9g-docs.googleusercontent.com)... 74.125.142.132, 2607:f8b0:400e:c08::84\n",
            "Connecting to doc-0o-9g-docs.googleusercontent.com (doc-0o-9g-docs.googleusercontent.com)|74.125.142.132|:443... connected.\n",
            "HTTP request sent, awaiting response... 200 OK\n",
            "Length: unspecified [application/zip]\n",
            "Saving to: ‘birds.zip’\n",
            "\n",
            "birds.zip               [ <=>                ]   6.19M  --.-KB/s    in 0.04s   \n",
            "\n",
            "2020-08-09 18:19:05 (150 MB/s) - ‘birds.zip’ saved [6488322]\n",
            "\n"
          ],
          "name": "stdout"
        }
      ]
    },
    {
      "cell_type": "code",
      "metadata": {
        "id": "9oOwplfXf6aK",
        "colab_type": "code",
        "colab": {}
      },
      "source": [
        "os.chdir('/content/AttnGAN/data/birds')\n",
        "!unzip -q text.zip\n",
        "!rm text.zip"
      ],
      "execution_count": 6,
      "outputs": []
    },
    {
      "cell_type": "code",
      "metadata": {
        "id": "T5ueMbDcgYo2",
        "colab_type": "code",
        "colab": {
          "base_uri": "https://localhost:8080/",
          "height": 437
        },
        "outputId": "1e4f8317-98a8-4fad-acd0-3fdca0d99ce6"
      },
      "source": [
        "#Changing Working dirctory to birds\n",
        "os.chdir('/content/AttnGAN/data/birds/')\n",
        "!wget --load-cookies /tmp/cookies.txt \"https://docs.google.com/uc?export=download&confirm=$(wget --quiet --save-cookies /tmp/cookies.txt --keep-session-cookies --no-check-certificate 'https://docs.google.com/uc?export=download&id=1hbzc_P1FuxMkcabkgn9ZKinBwW683j45' -O- | sed -rn 's/.*confirm=([0-9A-Za-z_]+).*/\\1\\n/p')&id=1hbzc_P1FuxMkcabkgn9ZKinBwW683j45\" -O CUB_200_2011.tgz && rm -rf /tmp/cookies.txt\n",
        "!tar zxf  CUB_200_2011.tgz\n",
        "!rm CUB_200_2011.tgz"
      ],
      "execution_count": 7,
      "outputs": [
        {
          "output_type": "stream",
          "text": [
            "--2020-08-09 18:19:16--  https://docs.google.com/uc?export=download&confirm=IrDg&id=1hbzc_P1FuxMkcabkgn9ZKinBwW683j45\n",
            "Resolving docs.google.com (docs.google.com)... 74.125.197.100, 74.125.197.113, 74.125.197.138, ...\n",
            "Connecting to docs.google.com (docs.google.com)|74.125.197.100|:443... connected.\n",
            "HTTP request sent, awaiting response... 302 Moved Temporarily\n",
            "Location: https://doc-08-bc-docs.googleusercontent.com/docs/securesc/pf9f26msbb015t5s3k1jh4ljo9n1p21m/el0dvmpav7jm2be1tufbcnohtmb4egas/1596997125000/15424859768005087218/10678895774525914964Z/1hbzc_P1FuxMkcabkgn9ZKinBwW683j45?e=download [following]\n",
            "--2020-08-09 18:19:17--  https://doc-08-bc-docs.googleusercontent.com/docs/securesc/pf9f26msbb015t5s3k1jh4ljo9n1p21m/el0dvmpav7jm2be1tufbcnohtmb4egas/1596997125000/15424859768005087218/10678895774525914964Z/1hbzc_P1FuxMkcabkgn9ZKinBwW683j45?e=download\n",
            "Resolving doc-08-bc-docs.googleusercontent.com (doc-08-bc-docs.googleusercontent.com)... 74.125.142.132, 2607:f8b0:400e:c08::84\n",
            "Connecting to doc-08-bc-docs.googleusercontent.com (doc-08-bc-docs.googleusercontent.com)|74.125.142.132|:443... connected.\n",
            "HTTP request sent, awaiting response... 302 Found\n",
            "Location: https://docs.google.com/nonceSigner?nonce=1i8sigclqi9em&continue=https://doc-08-bc-docs.googleusercontent.com/docs/securesc/pf9f26msbb015t5s3k1jh4ljo9n1p21m/el0dvmpav7jm2be1tufbcnohtmb4egas/1596997125000/15424859768005087218/10678895774525914964Z/1hbzc_P1FuxMkcabkgn9ZKinBwW683j45?e%3Ddownload&hash=ffbjo3c8uaqsdif3981r5felb9dm7dgg [following]\n",
            "--2020-08-09 18:19:17--  https://docs.google.com/nonceSigner?nonce=1i8sigclqi9em&continue=https://doc-08-bc-docs.googleusercontent.com/docs/securesc/pf9f26msbb015t5s3k1jh4ljo9n1p21m/el0dvmpav7jm2be1tufbcnohtmb4egas/1596997125000/15424859768005087218/10678895774525914964Z/1hbzc_P1FuxMkcabkgn9ZKinBwW683j45?e%3Ddownload&hash=ffbjo3c8uaqsdif3981r5felb9dm7dgg\n",
            "Connecting to docs.google.com (docs.google.com)|74.125.197.100|:443... connected.\n",
            "HTTP request sent, awaiting response... 302 Found\n",
            "Location: https://doc-08-bc-docs.googleusercontent.com/docs/securesc/pf9f26msbb015t5s3k1jh4ljo9n1p21m/el0dvmpav7jm2be1tufbcnohtmb4egas/1596997125000/15424859768005087218/10678895774525914964Z/1hbzc_P1FuxMkcabkgn9ZKinBwW683j45?e=download&nonce=1i8sigclqi9em&user=10678895774525914964Z&hash=2u4kj0kb51p7ocs068hvrmqs201q3qp0 [following]\n",
            "--2020-08-09 18:19:17--  https://doc-08-bc-docs.googleusercontent.com/docs/securesc/pf9f26msbb015t5s3k1jh4ljo9n1p21m/el0dvmpav7jm2be1tufbcnohtmb4egas/1596997125000/15424859768005087218/10678895774525914964Z/1hbzc_P1FuxMkcabkgn9ZKinBwW683j45?e=download&nonce=1i8sigclqi9em&user=10678895774525914964Z&hash=2u4kj0kb51p7ocs068hvrmqs201q3qp0\n",
            "Connecting to doc-08-bc-docs.googleusercontent.com (doc-08-bc-docs.googleusercontent.com)|74.125.142.132|:443... connected.\n",
            "HTTP request sent, awaiting response... 200 OK\n",
            "Length: unspecified [application/x-gtar]\n",
            "Saving to: ‘CUB_200_2011.tgz’\n",
            "\n",
            "CUB_200_2011.tgz        [            <=>     ]   1.07G   266MB/s    in 4.3s    \n",
            "\n",
            "2020-08-09 18:19:21 (254 MB/s) - ‘CUB_200_2011.tgz’ saved [1150585339]\n",
            "\n"
          ],
          "name": "stdout"
        }
      ]
    },
    {
      "cell_type": "code",
      "metadata": {
        "id": "XaEngHiXsOr3",
        "colab_type": "code",
        "colab": {
          "base_uri": "https://localhost:8080/",
          "height": 503
        },
        "outputId": "ec8e4f45-4e4a-4452-8dad-81c4fb48aaa5"
      },
      "source": [
        "os.chdir('/content/AttnGAN/code/')\n",
        "!wget --no-check-certificate 'https://docs.google.com/uc?export=download&id=1Wr3lQajG7m6Bi3rYFTJb6mwE_d8su111' -O Pillow.rar\n",
        "!unrar x  Pillow.rar\n",
        "!rm Pillow.rar"
      ],
      "execution_count": 8,
      "outputs": [
        {
          "output_type": "stream",
          "text": [
            "--2020-08-09 18:19:53--  https://docs.google.com/uc?export=download&id=1Wr3lQajG7m6Bi3rYFTJb6mwE_d8su111\n",
            "Resolving docs.google.com (docs.google.com)... 74.125.28.100, 74.125.28.113, 74.125.28.138, ...\n",
            "Connecting to docs.google.com (docs.google.com)|74.125.28.100|:443... connected.\n",
            "HTTP request sent, awaiting response... 302 Moved Temporarily\n",
            "Location: https://doc-04-6c-docs.googleusercontent.com/docs/securesc/ha0ro937gcuc7l7deffksulhg5h7mbp1/4q2n895audbf7g03fa30lookinebtkea/1596997125000/17309505201871794426/*/1Wr3lQajG7m6Bi3rYFTJb6mwE_d8su111?e=download [following]\n",
            "Warning: wildcards not supported in HTTP.\n",
            "--2020-08-09 18:19:53--  https://doc-04-6c-docs.googleusercontent.com/docs/securesc/ha0ro937gcuc7l7deffksulhg5h7mbp1/4q2n895audbf7g03fa30lookinebtkea/1596997125000/17309505201871794426/*/1Wr3lQajG7m6Bi3rYFTJb6mwE_d8su111?e=download\n",
            "Resolving doc-04-6c-docs.googleusercontent.com (doc-04-6c-docs.googleusercontent.com)... 74.125.142.132, 2607:f8b0:400e:c08::84\n",
            "Connecting to doc-04-6c-docs.googleusercontent.com (doc-04-6c-docs.googleusercontent.com)|74.125.142.132|:443... connected.\n",
            "HTTP request sent, awaiting response... 200 OK\n",
            "Length: 257793 (252K) [application/x-rar]\n",
            "Saving to: ‘Pillow.rar’\n",
            "\n",
            "Pillow.rar          100%[===================>] 251.75K  --.-KB/s    in 0.003s  \n",
            "\n",
            "2020-08-09 18:19:53 (96.7 MB/s) - ‘Pillow.rar’ saved [257793/257793]\n",
            "\n",
            "\n",
            "UNRAR 5.50 freeware      Copyright (c) 1993-2017 Alexander Roshal\n",
            "\n",
            "\n",
            "Extracting from Pillow.rar\n",
            "\n",
            "Creating    Pillow                                                    OK\n",
            "Creating    Pillow/Tests                                              OK\n",
            "Creating    Pillow/Tests/fonts                                        OK\n",
            "Extracting  Pillow/Tests/fonts/FreeMono.ttf                              \b\b\b\b 12%\b\b\b\b 25%\b\b\b\b 38%\b\b\b\b 50%\b\b\b\b 63%\b\b\b\b 76%\b\b\b\b 88%\b\b\b\b 99%\b\b\b\b\b  OK \n",
            "All OK\n"
          ],
          "name": "stdout"
        }
      ]
    },
    {
      "cell_type": "code",
      "metadata": {
        "id": "kMT2FQDhlEWy",
        "colab_type": "code",
        "colab": {}
      },
      "source": [
        "os.chdir('/content/AttnGAN/DAMSMencoders/')\n",
        "os.mkdir('bird')"
      ],
      "execution_count": 9,
      "outputs": []
    },
    {
      "cell_type": "code",
      "metadata": {
        "id": "8_-RVVeUkKvD",
        "colab_type": "code",
        "colab": {
          "base_uri": "https://localhost:8080/",
          "height": 156
        },
        "outputId": "e763cf42-1d77-4ecc-8aaa-05eac594e421"
      },
      "source": [
        "os.chdir('/content')\n",
        "#Dwonload files config.py, utils.py, datasets.py, pretrain_DAMSM.py\n",
        "!git clone https://github.com/ammarnasr/CUB-Attn-GAN.git\n",
        "\n",
        "# #Move Models text and image encoder to their /content/\n",
        "!mv /content/CUB-Attn-GAN/theModel/text_encoder599.pth /content/\n",
        "!mv /content/CUB-Attn-GAN/theModel/image_encoder599.pth /content/\n",
        "!mv /content/CUB-Attn-GAN/theCode/GAN/netG_epoch_600.pth /content/\n",
        "\n",
        "#Remove the Repo\n",
        "!rm -r /content/CUB-Attn-GAN/\n",
        "\n",
        "#Move Models text and image encoder to their /content/\n",
        "!mv /content/text_encoder599.pth /content/AttnGAN/DAMSMencoders/bird/\n",
        "!mv /content/image_encoder599.pth /content/AttnGAN/DAMSMencoders/bird/\n",
        "!mv /content/netG_epoch_600.pth /content/AttnGAN/models/"
      ],
      "execution_count": 10,
      "outputs": [
        {
          "output_type": "stream",
          "text": [
            "Cloning into 'CUB-Attn-GAN'...\n",
            "remote: Enumerating objects: 292, done.\u001b[K\n",
            "remote: Counting objects: 100% (292/292), done.\u001b[K\n",
            "remote: Compressing objects: 100% (187/187), done.\u001b[K\n",
            "remote: Total 842 (delta 197), reused 193 (delta 103), pack-reused 550\u001b[K\n",
            "Receiving objects: 100% (842/842), 475.00 MiB | 40.54 MiB/s, done.\n",
            "Resolving deltas: 100% (497/497), done.\n",
            "Checking out files: 100% (117/117), done.\n"
          ],
          "name": "stdout"
        }
      ]
    },
    {
      "cell_type": "code",
      "metadata": {
        "id": "KP0lWbppdqIl",
        "colab_type": "code",
        "colab": {}
      },
      "source": [
        "\n",
        "# !cp '/content/drive/My Drive/cubModelGAN/netG_epoch_10.pth' '/content/AttnGAN/models/'\n",
        "# !cp '/content/drive/My Drive/cubModelGAN/netG_epoch_20.pth' '/content/AttnGAN/models/'\n",
        "# !cp '/content/drive/My Drive/cubModelGAN/netG_epoch_30.pth' '/content/AttnGAN/models/'\n",
        "# !cp '/content/drive/My Drive/cubModelGAN/netG_epoch_40.pth' '/content/AttnGAN/models/'\n",
        "# !cp '/content/drive/My Drive/cubModelGAN/netG_epoch_50.pth' '/content/AttnGAN/models/'\n",
        "# !cp '/content/drive/My Drive/cubModelGAN/netG_epoch_60.pth' '/content/AttnGAN/models/'\n",
        "# !cp '/content/drive/My Drive/cubModelGAN/netG_epoch_70.pth' '/content/AttnGAN/models/'\n",
        "# !cp '/content/drive/My Drive/cubModelGAN/netG_epoch_80.pth' '/content/AttnGAN/models/'\n",
        "# !cp '/content/drive/My Drive/cubModelGAN/netG_epoch_90.pth' '/content/AttnGAN/models/'\n",
        "# !cp '/content/drive/My Drive/cubModelGAN/netG_epoch_100.pth' '/content/AttnGAN/models/'\n",
        "\n",
        "# !cp '/content/drive/My Drive/cubModelGAN/netG_epoch_110.pth' '/content/AttnGAN/models/'\n",
        "# !cp '/content/drive/My Drive/cubModelGAN/netG_epoch_120.pth' '/content/AttnGAN/models/'\n",
        "# !cp '/content/drive/My Drive/cubModelGAN/netG_epoch_130.pth' '/content/AttnGAN/models/'\n",
        "# !cp '/content/drive/My Drive/cubModelGAN/netG_epoch_140.pth' '/content/AttnGAN/models/'\n",
        "# !cp '/content/drive/My Drive/cubModelGAN/netG_epoch_150.pth' '/content/AttnGAN/models/'\n",
        "# !cp '/content/drive/My Drive/cubModelGAN/netG_epoch_160.pth' '/content/AttnGAN/models/'\n",
        "# !cp '/content/drive/My Drive/cubModelGAN/netG_epoch_170.pth' '/content/AttnGAN/models/'\n",
        "# !cp '/content/drive/My Drive/cubModelGAN/netG_epoch_180.pth' '/content/AttnGAN/models/'\n",
        "# !cp '/content/drive/My Drive/cubModelGAN/netG_epoch_190.pth' '/content/AttnGAN/models/'\n",
        "# !cp '/content/drive/My Drive/cubModelGAN/netG_epoch_200.pth' '/content/AttnGAN/models/'\n",
        "\n",
        "# !cp '/content/drive/My Drive/cubModelGAN/netG_epoch_210.pth' '/content/AttnGAN/models/'\n",
        "# !cp '/content/drive/My Drive/cubModelGAN/netG_epoch_220.pth' '/content/AttnGAN/models/'\n",
        "# !cp '/content/drive/My Drive/cubModelGAN/netG_epoch_230.pth' '/content/AttnGAN/models/'\n",
        "# !cp '/content/drive/My Drive/cubModelGAN/netG_epoch_240.pth' '/content/AttnGAN/models/'\n",
        "# !cp '/content/drive/My Drive/cubModelGAN/netG_epoch_250.pth' '/content/AttnGAN/models/'\n",
        "# !cp '/content/drive/My Drive/cubModelGAN/netG_epoch_260.pth' '/content/AttnGAN/models/'\n",
        "# !cp '/content/drive/My Drive/cubModelGAN/netG_epoch_270.pth' '/content/AttnGAN/models/'\n",
        "# !cp '/content/drive/My Drive/cubModelGAN/netG_epoch_280.pth' '/content/AttnGAN/models/'\n",
        "# !cp '/content/drive/My Drive/cubModelGAN/netG_epoch_290.pth' '/content/AttnGAN/models/'\n",
        "# !cp '/content/drive/My Drive/cubModelGAN/netG_epoch_300.pth' '/content/AttnGAN/models/'\n",
        "\n",
        "\n",
        "# !cp '/content/drive/My Drive/cubModelGAN/netG_epoch_310.pth' '/content/AttnGAN/models/'\n",
        "# !cp '/content/drive/My Drive/cubModelGAN/netG_epoch_320.pth' '/content/AttnGAN/models/'\n",
        "# !cp '/content/drive/My Drive/cubModelGAN/netG_epoch_330.pth' '/content/AttnGAN/models/'\n",
        "# !cp '/content/drive/My Drive/cubModelGAN/netG_epoch_340.pth' '/content/AttnGAN/models/'\n",
        "# !cp '/content/drive/My Drive/cubModelGAN/netG_epoch_350.pth' '/content/AttnGAN/models/'\n",
        "# !cp '/content/drive/My Drive/cubModelGAN/netG_epoch_360.pth' '/content/AttnGAN/models/'\n",
        "# !cp '/content/drive/My Drive/cubModelGAN/netG_epoch_370.pth' '/content/AttnGAN/models/'\n",
        "# !cp '/content/drive/My Drive/cubModelGAN/netG_epoch_380.pth' '/content/AttnGAN/models/'\n",
        "# !cp '/content/drive/My Drive/cubModelGAN/netG_epoch_390.pth' '/content/AttnGAN/models/'\n",
        "# !cp '/content/drive/My Drive/cubModelGAN/netG_epoch_400.pth' '/content/AttnGAN/models/'\n",
        "\n",
        "\n",
        "# !cp '/content/drive/My Drive/cubModelGAN/netG_epoch_410.pth' '/content/AttnGAN/models/'\n",
        "# !cp '/content/drive/My Drive/cubModelGAN/netG_epoch_420.pth' '/content/AttnGAN/models/'\n",
        "# !cp '/content/drive/My Drive/cubModelGAN/netG_epoch_430.pth' '/content/AttnGAN/models/'\n",
        "# !cp '/content/drive/My Drive/cubModelGAN/netG_epoch_440.pth' '/content/AttnGAN/models/'\n",
        "# !cp '/content/drive/My Drive/cubModelGAN/netG_epoch_450.pth' '/content/AttnGAN/models/'\n",
        "# !cp '/content/drive/My Drive/cubModelGAN/netG_epoch_460.pth' '/content/AttnGAN/models/'\n",
        "# !cp '/content/drive/My Drive/cubModelGAN/netG_epoch_470.pth' '/content/AttnGAN/models/'\n",
        "# !cp '/content/drive/My Drive/cubModelGAN/netG_epoch_480.pth' '/content/AttnGAN/models/'\n",
        "# !cp '/content/drive/My Drive/cubModelGAN/netG_epoch_490.pth' '/content/AttnGAN/models/'\n",
        "# !cp '/content/drive/My Drive/cubModelGAN/netG_epoch_500.pth' '/content/AttnGAN/models/'\n",
        "\n",
        "\n",
        "# !cp '/content/drive/My Drive/cubModelGAN/netG_epoch_510.pth' '/content/AttnGAN/models/'\n",
        "# !cp '/content/drive/My Drive/cubModelGAN/netG_epoch_520.pth' '/content/AttnGAN/models/'\n",
        "# !cp '/content/drive/My Drive/cubModelGAN/netG_epoch_530.pth' '/content/AttnGAN/models/'\n",
        "# !cp '/content/drive/My Drive/cubModelGAN/netG_epoch_540.pth' '/content/AttnGAN/models/'\n",
        "# !cp '/content/drive/My Drive/cubModelGAN/netG_epoch_550.pth' '/content/AttnGAN/models/'\n",
        "# !cp '/content/drive/My Drive/cubModelGAN/netG_epoch_560.pth' '/content/AttnGAN/models/'\n",
        "# !cp '/content/drive/My Drive/cubModelGAN/netG_epoch_570.pth' '/content/AttnGAN/models/'\n",
        "# !cp '/content/drive/My Drive/cubModelGAN/netG_epoch_580.pth' '/content/AttnGAN/models/'\n",
        "# !cp '/content/drive/My Drive/cubModelGAN/netG_epoch_590.pth' '/content/AttnGAN/models/'\n",
        "# !cp '/content/drive/My Drive/cubModelGAN/netG_epoch_600.pth' '/content/AttnGAN/models/'\n",
        "\n",
        "\n",
        "\n",
        "\n",
        "\n",
        "!cp '/content/drive/My Drive/ModifiedcubModelGAN/netG_epoch_10.pth' '/content/AttnGAN/models/'\n",
        "!cp '/content/drive/My Drive/ModifiedcubModelGAN/netG_epoch_20.pth' '/content/AttnGAN/models/'\n",
        "!cp '/content/drive/My Drive/ModifiedcubModelGAN/netG_epoch_30.pth' '/content/AttnGAN/models/'\n",
        "!cp '/content/drive/My Drive/ModifiedcubModelGAN/netG_epoch_40.pth' '/content/AttnGAN/models/'\n",
        "!cp '/content/drive/My Drive/ModifiedcubModelGAN/netG_epoch_50.pth' '/content/AttnGAN/models/'\n",
        "!cp '/content/drive/My Drive/ModifiedcubModelGAN/netG_epoch_60.pth' '/content/AttnGAN/models/'\n",
        "!cp '/content/drive/My Drive/ModifiedcubModelGAN/netG_epoch_70.pth' '/content/AttnGAN/models/'\n",
        "!cp '/content/drive/My Drive/ModifiedcubModelGAN/netG_epoch_80.pth' '/content/AttnGAN/models/'\n",
        "!cp '/content/drive/My Drive/ModifiedcubModelGAN/netG_epoch_90.pth' '/content/AttnGAN/models/'\n",
        "!cp '/content/drive/My Drive/ModifiedcubModelGAN/netG_epoch_100.pth' '/content/AttnGAN/models/'\n",
        "\n",
        "!cp '/content/drive/My Drive/ModifiedcubModelGAN/netG_epoch_110.pth' '/content/AttnGAN/models/'\n",
        "!cp '/content/drive/My Drive/ModifiedcubModelGAN/netG_epoch_120.pth' '/content/AttnGAN/models/'\n",
        "!cp '/content/drive/My Drive/ModifiedcubModelGAN/netG_epoch_130.pth' '/content/AttnGAN/models/'\n",
        "!cp '/content/drive/My Drive/ModifiedcubModelGAN/netG_epoch_140.pth' '/content/AttnGAN/models/'\n",
        "!cp '/content/drive/My Drive/ModifiedcubModelGAN/netG_epoch_150.pth' '/content/AttnGAN/models/'\n",
        "!cp '/content/drive/My Drive/ModifiedcubModelGAN/netG_epoch_160.pth' '/content/AttnGAN/models/'\n",
        "!cp '/content/drive/My Drive/ModifiedcubModelGAN/netG_epoch_170.pth' '/content/AttnGAN/models/'\n",
        "!cp '/content/drive/My Drive/ModifiedcubModelGAN/netG_epoch_180.pth' '/content/AttnGAN/models/'\n",
        "!cp '/content/drive/My Drive/ModifiedcubModelGAN/netG_epoch_190.pth' '/content/AttnGAN/models/'\n",
        "!cp '/content/drive/My Drive/ModifiedcubModelGAN/netG_epoch_200.pth' '/content/AttnGAN/models/'\n",
        "\n",
        "!cp '/content/drive/My Drive/ModifiedcubModelGAN/netG_epoch_210.pth' '/content/AttnGAN/models/'\n",
        "!cp '/content/drive/My Drive/ModifiedcubModelGAN/netG_epoch_220.pth' '/content/AttnGAN/models/'\n",
        "!cp '/content/drive/My Drive/ModifiedcubModelGAN/netG_epoch_230.pth' '/content/AttnGAN/models/'\n",
        "!cp '/content/drive/My Drive/ModifiedcubModelGAN/netG_epoch_240.pth' '/content/AttnGAN/models/'\n",
        "!cp '/content/drive/My Drive/ModifiedcubModelGAN/netG_epoch_250.pth' '/content/AttnGAN/models/'\n",
        "!cp '/content/drive/My Drive/ModifiedcubModelGAN/netG_epoch_260.pth' '/content/AttnGAN/models/'\n",
        "!cp '/content/drive/My Drive/ModifiedcubModelGAN/netG_epoch_270.pth' '/content/AttnGAN/models/'\n",
        "!cp '/content/drive/My Drive/ModifiedcubModelGAN/netG_epoch_280.pth' '/content/AttnGAN/models/'\n",
        "!cp '/content/drive/My Drive/ModifiedcubModelGAN/netG_epoch_290.pth' '/content/AttnGAN/models/'\n",
        "!cp '/content/drive/My Drive/ModifiedcubModelGAN/netG_epoch_300.pth' '/content/AttnGAN/models/'\n",
        "\n",
        "\n",
        "!cp '/content/drive/My Drive/ModifiedcubModelGAN/netG_epoch_310.pth' '/content/AttnGAN/models/'\n",
        "!cp '/content/drive/My Drive/ModifiedcubModelGAN/netG_epoch_320.pth' '/content/AttnGAN/models/'\n",
        "!cp '/content/drive/My Drive/ModifiedcubModelGAN/netG_epoch_330.pth' '/content/AttnGAN/models/'\n",
        "!cp '/content/drive/My Drive/ModifiedcubModelGAN/netG_epoch_340.pth' '/content/AttnGAN/models/'\n",
        "!cp '/content/drive/My Drive/ModifiedcubModelGAN/netG_epoch_350.pth' '/content/AttnGAN/models/'\n",
        "!cp '/content/drive/My Drive/ModifiedcubModelGAN/netG_epoch_360.pth' '/content/AttnGAN/models/'\n",
        "!cp '/content/drive/My Drive/ModifiedcubModelGAN/netG_epoch_370.pth' '/content/AttnGAN/models/'\n",
        "!cp '/content/drive/My Drive/ModifiedcubModelGAN/netG_epoch_380.pth' '/content/AttnGAN/models/'\n",
        "!cp '/content/drive/My Drive/ModifiedcubModelGAN/netG_epoch_390.pth' '/content/AttnGAN/models/'\n",
        "!cp '/content/drive/My Drive/ModifiedcubModelGAN/netG_epoch_400.pth' '/content/AttnGAN/models/'\n",
        "\n",
        "\n",
        "!cp '/content/drive/My Drive/ModifiedcubModelGAN/netG_epoch_410.pth' '/content/AttnGAN/models/'\n",
        "!cp '/content/drive/My Drive/ModifiedcubModelGAN/netG_epoch_420.pth' '/content/AttnGAN/models/'\n",
        "!cp '/content/drive/My Drive/ModifiedcubModelGAN/netG_epoch_430.pth' '/content/AttnGAN/models/'\n",
        "!cp '/content/drive/My Drive/ModifiedcubModelGAN/netG_epoch_440.pth' '/content/AttnGAN/models/'\n",
        "!cp '/content/drive/My Drive/ModifiedcubModelGAN/netG_epoch_450.pth' '/content/AttnGAN/models/'\n",
        "!cp '/content/drive/My Drive/ModifiedcubModelGAN/netG_epoch_460.pth' '/content/AttnGAN/models/'\n",
        "!cp '/content/drive/My Drive/ModifiedcubModelGAN/netG_epoch_470.pth' '/content/AttnGAN/models/'\n",
        "!cp '/content/drive/My Drive/ModifiedcubModelGAN/netG_epoch_480.pth' '/content/AttnGAN/models/'\n",
        "!cp '/content/drive/My Drive/ModifiedcubModelGAN/netG_epoch_490.pth' '/content/AttnGAN/models/'\n",
        "!cp '/content/drive/My Drive/ModifiedcubModelGAN/netG_epoch_500.pth' '/content/AttnGAN/models/'\n",
        "\n",
        "\n",
        "!cp '/content/drive/My Drive/ModifiedcubModelGAN/netG_epoch_510.pth' '/content/AttnGAN/models/'\n",
        "!cp '/content/drive/My Drive/ModifiedcubModelGAN/netG_epoch_520.pth' '/content/AttnGAN/models/'\n",
        "!cp '/content/drive/My Drive/ModifiedcubModelGAN/netG_epoch_530.pth' '/content/AttnGAN/models/'\n",
        "!cp '/content/drive/My Drive/ModifiedcubModelGAN/netG_epoch_540.pth' '/content/AttnGAN/models/'\n",
        "!cp '/content/drive/My Drive/ModifiedcubModelGAN/netG_epoch_550.pth' '/content/AttnGAN/models/'\n",
        "!cp '/content/drive/My Drive/ModifiedcubModelGAN/netG_epoch_560.pth' '/content/AttnGAN/models/'\n",
        "!cp '/content/drive/My Drive/ModifiedcubModelGAN/netG_epoch_570.pth' '/content/AttnGAN/models/'\n",
        "!cp '/content/drive/My Drive/ModifiedcubModelGAN/netG_epoch_580.pth' '/content/AttnGAN/models/'\n",
        "!cp '/content/drive/My Drive/ModifiedcubModelGAN/netG_epoch_590.pth' '/content/AttnGAN/models/'\n",
        "!cp '/content/drive/My Drive/ModifiedcubModelGAN/netG_epoch_600.pth' '/content/AttnGAN/models/'\n",
        "\n",
        "\n",
        "\n",
        "\n"
      ],
      "execution_count": null,
      "outputs": []
    },
    {
      "cell_type": "markdown",
      "metadata": {
        "id": "1NhlvNfvcihB",
        "colab_type": "text"
      },
      "source": [
        "==================================================================================================================="
      ]
    },
    {
      "cell_type": "code",
      "metadata": {
        "id": "bL5P9M-ecd1m",
        "colab_type": "code",
        "colab": {
          "base_uri": "https://localhost:8080/",
          "height": 133
        },
        "outputId": "0876a42f-9371-498a-a223-fbebfc52a75d"
      },
      "source": [
        "os.chdir('/content')\n",
        "!rm -r Validate_a_lot\n",
        "!git clone https://github.com/ammarnasr/Validate_a_lot.git"
      ],
      "execution_count": 13,
      "outputs": [
        {
          "output_type": "stream",
          "text": [
            "rm: cannot remove 'Validate_a_lot': No such file or directory\n",
            "Cloning into 'Validate_a_lot'...\n",
            "remote: Enumerating objects: 27, done.\u001b[K\n",
            "remote: Counting objects: 100% (27/27), done.\u001b[K\n",
            "remote: Compressing objects: 100% (19/19), done.\u001b[K\n",
            "remote: Total 27 (delta 6), reused 22 (delta 4), pack-reused 0\u001b[K\n",
            "Unpacking objects: 100% (27/27), done.\n"
          ],
          "name": "stdout"
        }
      ]
    },
    {
      "cell_type": "code",
      "metadata": {
        "id": "AM32T-eydhVp",
        "colab_type": "code",
        "colab": {}
      },
      "source": [
        "!mv /content/Validate_a_lot/code/utils.py /content/AttnGAN/code/miscc/\n",
        "!mv /content/Validate_a_lot/code/config.py /content/AttnGAN/code/miscc/\n",
        "!mv /content/Validate_a_lot/code/datasets.py /content/AttnGAN/code/\n",
        "!mv /content/Validate_a_lot/code/main.py /content/AttnGAN/code/\n",
        "!mv /content/Validate_a_lot/code/trainer.py /content/AttnGAN/code/\n",
        "!mv /content/Validate_a_lot/code/eval_bird.yml /content/AttnGAN/code/cfg/"
      ],
      "execution_count": 14,
      "outputs": []
    },
    {
      "cell_type": "code",
      "metadata": {
        "id": "Hyy9vb-Ebkac",
        "colab_type": "code",
        "colab": {
          "base_uri": "https://localhost:8080/",
          "height": 1000
        },
        "outputId": "028b3dd8-ecc9-4f76-9f64-0bef5f7ac3d2"
      },
      "source": [
        "os.chdir('/content/AttnGAN/code')\n",
        "\n",
        "!python main.py --cfg cfg/eval_bird.yml --gpu 0"
      ],
      "execution_count": 15,
      "outputs": [
        {
          "output_type": "stream",
          "text": [
            "Using config:\n",
            "{'B_VALIDATION': True,\n",
            " 'CONFIG_NAME': 'attn2',\n",
            " 'CUDA': True,\n",
            " 'DATASET_NAME': 'birds',\n",
            " 'DATA_DIR': '../data/birds',\n",
            " 'GAN': {'B_ATTENTION': True,\n",
            "         'B_DCGAN': False,\n",
            "         'CONDITION_DIM': 100,\n",
            "         'DF_DIM': 64,\n",
            "         'GF_DIM': 32,\n",
            "         'R_NUM': 2,\n",
            "         'Z_DIM': 100},\n",
            " 'GPU_ID': 0,\n",
            " 'RNN_TYPE': 'LSTM',\n",
            " 'TEXT': {'CAPTIONS_PER_IMAGE': 10, 'EMBEDDING_DIM': 256, 'WORDS_NUM': 25},\n",
            " 'TRAIN': {'BATCH_SIZE': 32,\n",
            "           'B_NET_D': False,\n",
            "           'DISCRIMINATOR_LR': 0.0002,\n",
            "           'ENCODER_LR': 0.0002,\n",
            "           'FLAG': False,\n",
            "           'GENERATOR_LR': 0.0002,\n",
            "           'MAX_EPOCH': 600,\n",
            "           'NET_E': '../DAMSMencoders/bird/text_encoder599.pth',\n",
            "           'NET_G': '../models/netG_epoch_600.pth',\n",
            "           'RNN_GRAD_CLIP': 0.25,\n",
            "           'SMOOTH': {'GAMMA1': 5.0,\n",
            "                      'GAMMA2': 5.0,\n",
            "                      'GAMMA3': 10.0,\n",
            "                      'LAMBDA': 1.0},\n",
            "           'SNAPSHOT_INTERVAL': 2000},\n",
            " 'TREE': {'BASE_SIZE': 64, 'BRANCH_NUM': 3},\n",
            " 'WORKERS': 1}\n",
            "/usr/local/lib/python3.6/dist-packages/torchvision/transforms/transforms.py:257: UserWarning: The use of the transforms.Scale transform is deprecated, please use transforms.Resize instead.\n",
            "  \"please use transforms.Resize instead.\")\n",
            "Total filenames:  11788 001.Black_footed_Albatross/Black_Footed_Albatross_0046_18.jpg\n",
            "Load filenames from: ../data/birds/train/filenames.pickle (8855)\n",
            "Load filenames from: ../data/birds/test/filenames.pickle (2933)\n",
            "Load from:  ../data/birds/captions.pickle\n",
            "/content/AttnGAN/code/miscc/utils.py:404: UserWarning: nn.init.orthogonal is now deprecated in favor of nn.init.orthogonal_.\n",
            "  nn.init.orthogonal(m.weight.data, 1.0)\n",
            "/content/AttnGAN/code/miscc/utils.py:399: UserWarning: nn.init.orthogonal is now deprecated in favor of nn.init.orthogonal_.\n",
            "  nn.init.orthogonal(m.weight.data, 1.0)\n",
            "/usr/local/lib/python3.6/dist-packages/torch/nn/modules/rnn.py:60: UserWarning: dropout option adds dropout after all but last recurrent layer, so non-zero dropout expects num_layers greater than 1, but got dropout=0.5 and num_layers=1\n",
            "  \"num_layers={}\".format(dropout, num_layers))\n",
            "Load text encoder from: ../DAMSMencoders/bird/text_encoder599.pth\n",
            "/content/AttnGAN/code/trainer.py:441: UserWarning: volatile was removed and now has no effect. Use `with torch.no_grad():` instead.\n",
            "  noise = Variable(torch.FloatTensor(batch_size, nz), volatile=True)\n",
            "LINE==380\n",
            "-----------------netG------------------------\n",
            "G_NET(\n",
            "  (ca_net): CA_NET(\n",
            "    (fc): Linear(in_features=256, out_features=400, bias=True)\n",
            "    (relu): GLU()\n",
            "  )\n",
            "  (h_net1): INIT_STAGE_G(\n",
            "    (fc): Sequential(\n",
            "      (0): Linear(in_features=200, out_features=16384, bias=False)\n",
            "      (1): BatchNorm1d(16384, eps=1e-05, momentum=0.1, affine=True, track_running_stats=True)\n",
            "      (2): GLU()\n",
            "    )\n",
            "    (upsample1): Sequential(\n",
            "      (0): Upsample(scale_factor=2.0, mode=nearest)\n",
            "      (1): Conv2d(512, 512, kernel_size=(3, 3), stride=(1, 1), padding=(1, 1), bias=False)\n",
            "      (2): BatchNorm2d(512, eps=1e-05, momentum=0.1, affine=True, track_running_stats=True)\n",
            "      (3): GLU()\n",
            "    )\n",
            "    (upsample2): Sequential(\n",
            "      (0): Upsample(scale_factor=2.0, mode=nearest)\n",
            "      (1): Conv2d(256, 256, kernel_size=(3, 3), stride=(1, 1), padding=(1, 1), bias=False)\n",
            "      (2): BatchNorm2d(256, eps=1e-05, momentum=0.1, affine=True, track_running_stats=True)\n",
            "      (3): GLU()\n",
            "    )\n",
            "    (upsample3): Sequential(\n",
            "      (0): Upsample(scale_factor=2.0, mode=nearest)\n",
            "      (1): Conv2d(128, 128, kernel_size=(3, 3), stride=(1, 1), padding=(1, 1), bias=False)\n",
            "      (2): BatchNorm2d(128, eps=1e-05, momentum=0.1, affine=True, track_running_stats=True)\n",
            "      (3): GLU()\n",
            "    )\n",
            "    (upsample4): Sequential(\n",
            "      (0): Upsample(scale_factor=2.0, mode=nearest)\n",
            "      (1): Conv2d(64, 64, kernel_size=(3, 3), stride=(1, 1), padding=(1, 1), bias=False)\n",
            "      (2): BatchNorm2d(64, eps=1e-05, momentum=0.1, affine=True, track_running_stats=True)\n",
            "      (3): GLU()\n",
            "    )\n",
            "  )\n",
            "  (img_net1): GET_IMAGE_G(\n",
            "    (img): Sequential(\n",
            "      (0): Conv2d(32, 3, kernel_size=(3, 3), stride=(1, 1), padding=(1, 1), bias=False)\n",
            "      (1): Tanh()\n",
            "    )\n",
            "  )\n",
            "  (h_net2): NEXT_STAGE_G(\n",
            "    (att): GlobalAttentionGeneral(\n",
            "      (conv_context): Conv2d(256, 32, kernel_size=(1, 1), stride=(1, 1), bias=False)\n",
            "      (sm): Softmax(dim=None)\n",
            "    )\n",
            "    (residual): Sequential(\n",
            "      (0): ResBlock(\n",
            "        (block): Sequential(\n",
            "          (0): Conv2d(64, 128, kernel_size=(3, 3), stride=(1, 1), padding=(1, 1), bias=False)\n",
            "          (1): BatchNorm2d(128, eps=1e-05, momentum=0.1, affine=True, track_running_stats=True)\n",
            "          (2): GLU()\n",
            "          (3): Conv2d(64, 64, kernel_size=(3, 3), stride=(1, 1), padding=(1, 1), bias=False)\n",
            "          (4): BatchNorm2d(64, eps=1e-05, momentum=0.1, affine=True, track_running_stats=True)\n",
            "        )\n",
            "      )\n",
            "      (1): ResBlock(\n",
            "        (block): Sequential(\n",
            "          (0): Conv2d(64, 128, kernel_size=(3, 3), stride=(1, 1), padding=(1, 1), bias=False)\n",
            "          (1): BatchNorm2d(128, eps=1e-05, momentum=0.1, affine=True, track_running_stats=True)\n",
            "          (2): GLU()\n",
            "          (3): Conv2d(64, 64, kernel_size=(3, 3), stride=(1, 1), padding=(1, 1), bias=False)\n",
            "          (4): BatchNorm2d(64, eps=1e-05, momentum=0.1, affine=True, track_running_stats=True)\n",
            "        )\n",
            "      )\n",
            "    )\n",
            "    (upsample): Sequential(\n",
            "      (0): Upsample(scale_factor=2.0, mode=nearest)\n",
            "      (1): Conv2d(64, 64, kernel_size=(3, 3), stride=(1, 1), padding=(1, 1), bias=False)\n",
            "      (2): BatchNorm2d(64, eps=1e-05, momentum=0.1, affine=True, track_running_stats=True)\n",
            "      (3): GLU()\n",
            "    )\n",
            "  )\n",
            "  (img_net2): GET_IMAGE_G(\n",
            "    (img): Sequential(\n",
            "      (0): Conv2d(32, 3, kernel_size=(3, 3), stride=(1, 1), padding=(1, 1), bias=False)\n",
            "      (1): Tanh()\n",
            "    )\n",
            "  )\n",
            "  (h_net3): NEXT_STAGE_G(\n",
            "    (att): GlobalAttentionGeneral(\n",
            "      (conv_context): Conv2d(256, 32, kernel_size=(1, 1), stride=(1, 1), bias=False)\n",
            "      (sm): Softmax(dim=None)\n",
            "    )\n",
            "    (residual): Sequential(\n",
            "      (0): ResBlock(\n",
            "        (block): Sequential(\n",
            "          (0): Conv2d(64, 128, kernel_size=(3, 3), stride=(1, 1), padding=(1, 1), bias=False)\n",
            "          (1): BatchNorm2d(128, eps=1e-05, momentum=0.1, affine=True, track_running_stats=True)\n",
            "          (2): GLU()\n",
            "          (3): Conv2d(64, 64, kernel_size=(3, 3), stride=(1, 1), padding=(1, 1), bias=False)\n",
            "          (4): BatchNorm2d(64, eps=1e-05, momentum=0.1, affine=True, track_running_stats=True)\n",
            "        )\n",
            "      )\n",
            "      (1): ResBlock(\n",
            "        (block): Sequential(\n",
            "          (0): Conv2d(64, 128, kernel_size=(3, 3), stride=(1, 1), padding=(1, 1), bias=False)\n",
            "          (1): BatchNorm2d(128, eps=1e-05, momentum=0.1, affine=True, track_running_stats=True)\n",
            "          (2): GLU()\n",
            "          (3): Conv2d(64, 64, kernel_size=(3, 3), stride=(1, 1), padding=(1, 1), bias=False)\n",
            "          (4): BatchNorm2d(64, eps=1e-05, momentum=0.1, affine=True, track_running_stats=True)\n",
            "        )\n",
            "      )\n",
            "    )\n",
            "    (upsample): Sequential(\n",
            "      (0): Upsample(scale_factor=2.0, mode=nearest)\n",
            "      (1): Conv2d(64, 64, kernel_size=(3, 3), stride=(1, 1), padding=(1, 1), bias=False)\n",
            "      (2): BatchNorm2d(64, eps=1e-05, momentum=0.1, affine=True, track_running_stats=True)\n",
            "      (3): GLU()\n",
            "    )\n",
            "  )\n",
            "  (img_net3): GET_IMAGE_G(\n",
            "    (img): Sequential(\n",
            "      (0): Conv2d(32, 3, kernel_size=(3, 3), stride=(1, 1), padding=(1, 1), bias=False)\n",
            "      (1): Tanh()\n",
            "    )\n",
            "  )\n",
            ")\n",
            "--------------state-dict---------------------\n",
            "Traceback (most recent call last):\n",
            "  File \"main.py\", line 144, in <module>\n",
            "    algo.sampling(split_dir)  # generate images for the whole valid dataset\n",
            "  File \"/content/AttnGAN/code/trainer.py\", line 455, in sampling\n",
            "    netG.load_state_dict(state_dict)\n",
            "  File \"/usr/local/lib/python3.6/dist-packages/torch/nn/modules/module.py\", line 1045, in load_state_dict\n",
            "    self.__class__.__name__, \"\\n\\t\".join(error_msgs)))\n",
            "RuntimeError: Error(s) in loading state_dict for G_NET:\n",
            "\tUnexpected key(s) in state_dict: \"h_net2.conv.weight\", \"h_net2.att.conv_sentence_vis.weight\", \"h_net2.att.linear.weight\", \"h_net2.att.linear.bias\", \"h_net3.conv.weight\", \"h_net3.att.conv_sentence_vis.weight\", \"h_net3.att.linear.weight\", \"h_net3.att.linear.bias\". \n"
          ],
          "name": "stdout"
        }
      ]
    },
    {
      "cell_type": "markdown",
      "metadata": {
        "id": "aPs_qjtGwTuU",
        "colab_type": "text"
      },
      "source": [
        "### Zip /content/AttnGAN/models/netG_epoch_600"
      ]
    },
    {
      "cell_type": "code",
      "metadata": {
        "id": "vQNXDCK-ZsWQ",
        "colab_type": "code",
        "colab": {}
      },
      "source": [
        "os.chdir('/content/AttnGAN/models')\n",
        "!zip -r netG_epoch_50.zip netG_epoch_50\n",
        "!zip -r netG_epoch_60.zip netG_epoch_60\n",
        "!zip -r netG_epoch_70.zip netG_epoch_70\n",
        "!zip -r netG_epoch_80.zip netG_epoch_80\n",
        "!zip -r netG_epoch_90.zip netG_epoch_90\n",
        "!zip -r netG_epoch_100.zip netG_epoch_100\n",
        "!zip -r netG_epoch_110.zip netG_epoch_110\n",
        "!zip -r netG_epoch_120.zip netG_epoch_120\n",
        "!zip -r netG_epoch_130.zip netG_epoch_130\n",
        "!zip -r netG_epoch_140.zip netG_epoch_140\n",
        "!zip -r netG_epoch_150.zip netG_epoch_150\n",
        "!zip -r netG_epoch_160.zip netG_epoch_160"
      ],
      "execution_count": null,
      "outputs": []
    },
    {
      "cell_type": "code",
      "metadata": {
        "id": "om7wrmbLb7Rh",
        "colab_type": "code",
        "colab": {}
      },
      "source": [
        "os.chdir('/content/AttnGAN/models')\n",
        "!zip -r B_val_true.zip netG_epoch_600"
      ],
      "execution_count": null,
      "outputs": []
    },
    {
      "cell_type": "code",
      "metadata": {
        "id": "u3K2hYHG6BJF",
        "colab_type": "code",
        "colab": {}
      },
      "source": [
        "!cp '/content/AttnGAN/models/B_val_true.zip' '/content/drive/My Drive/B_val_true/'"
      ],
      "execution_count": null,
      "outputs": []
    },
    {
      "cell_type": "code",
      "metadata": {
        "id": "DQfw6Wr_6LzM",
        "colab_type": "code",
        "colab": {}
      },
      "source": [
        "!cp -r '/content/AttnGAN/models/' '/content/drive/My Drive/Modified_Validation/'"
      ],
      "execution_count": null,
      "outputs": []
    },
    {
      "cell_type": "code",
      "metadata": {
        "id": "Fa7msPYSB1L8",
        "colab_type": "code",
        "colab": {}
      },
      "source": [
        "!cp -r '/content/AttnGAN/models/netG_epoch_600/valid/single/' '/content/'"
      ],
      "execution_count": null,
      "outputs": []
    },
    {
      "cell_type": "markdown",
      "metadata": {
        "id": "17K4754i7U0e",
        "colab_type": "text"
      },
      "source": [
        "# Validiate"
      ]
    },
    {
      "cell_type": "code",
      "metadata": {
        "id": "asxeaLP97AbP",
        "colab_type": "code",
        "colab": {}
      },
      "source": [
        "import os\n",
        "os.chdir('/content')"
      ],
      "execution_count": null,
      "outputs": []
    },
    {
      "cell_type": "code",
      "metadata": {
        "id": "fVSxq-I97lqh",
        "colab_type": "code",
        "colab": {}
      },
      "source": [
        "os.chdir('/content')\n",
        "!git clone https://github.com/hanzhanggit/StackGAN-inception-model.git"
      ],
      "execution_count": null,
      "outputs": []
    },
    {
      "cell_type": "code",
      "metadata": {
        "id": "5brgrOz09n7_",
        "colab_type": "code",
        "colab": {}
      },
      "source": [
        "os.chdir('/content/StackGAN-inception-model/')\n",
        "!wget --load-cookies /tmp/cookies.txt \"https://docs.google.com/uc?export=download&confirm=$(wget --quiet --save-cookies /tmp/cookies.txt --keep-session-cookies --no-check-certificate 'https://docs.google.com/uc?export=download&id=0B3y_msrWZaXLMzNMNWhWdW0zVWs' -O- | sed -rn 's/.*confirm=([0-9A-Za-z_]+).*/\\1\\n/p')&id=0B3y_msrWZaXLMzNMNWhWdW0zVWs\" -O inception_finetuned_models.zip && rm -rf /tmp/cookies.txt\n",
        "!unzip -q inception_finetuned_models.zip\n",
        "!rm inception_finetuned_models.zip\n",
        "!rm README.md\n",
        "!rm -r __MACOSX/"
      ],
      "execution_count": null,
      "outputs": []
    },
    {
      "cell_type": "code",
      "metadata": {
        "id": "aMV2BWfXCnzk",
        "colab_type": "code",
        "colab": {}
      },
      "source": [
        "!pip install scipy==1.1.0"
      ],
      "execution_count": null,
      "outputs": []
    },
    {
      "cell_type": "markdown",
      "metadata": {
        "id": "Xi8pXmQiAZAW",
        "colab_type": "text"
      },
      "source": [
        "==================================================================================================================="
      ]
    },
    {
      "cell_type": "code",
      "metadata": {
        "id": "TLuWxh9-AXAn",
        "colab_type": "code",
        "colab": {}
      },
      "source": [
        "os.chdir('/content')\n",
        "!rm -r Validate-CUB\n",
        "!git clone https://github.com/ammarnasr/Validate-CUB.git"
      ],
      "execution_count": null,
      "outputs": []
    },
    {
      "cell_type": "code",
      "metadata": {
        "id": "MjbwWJ_KAljQ",
        "colab_type": "code",
        "colab": {}
      },
      "source": [
        "!mv /content/Validate-CUB/code/inception_score.py /content/StackGAN-inception-model/"
      ],
      "execution_count": null,
      "outputs": []
    },
    {
      "cell_type": "code",
      "metadata": {
        "id": "EvcpNzGb8sof",
        "colab_type": "code",
        "colab": {}
      },
      "source": [
        "os.chdir('/content/StackGAN-inception-model/')\n",
        "%tensorflow_version 1.x\n",
        "!python inception_score.py --image_folder '/content/single/'"
      ],
      "execution_count": null,
      "outputs": []
    }
  ]
}